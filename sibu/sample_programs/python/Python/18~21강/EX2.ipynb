{
 "cells": [
  {
   "cell_type": "markdown",
   "metadata": {},
   "source": [
    "<img src=\"https://www.python.org/static/img/python-logo.png\" style='display:inline;margin-right:5px;'>\n",
    "\n",
    "<img src=\"http://www.alzio.co.kr/img_file/builder/icon/201706201643ic_01.gif\" style='display:inline;margin-right:5px;'><img src=\"http://www.alzio.co.kr/img_file/builder/icon/201706204478ic_02.gif\" style='display:inline;margin:0;'>\n",
    "\n",
    "<h1 style='COLOR: #002c5f;margin-top:5px;'>ALZIO - IT전문교육 : Python [고급]</h1><div>"
   ]
  },
  {
   "cell_type": "code",
   "execution_count": null,
   "metadata": {
    "collapsed": true
   },
   "outputs": [],
   "source": [
    "al1 = 2\n",
    "while al1 <= 9:\n",
    "    al2 = 1\n",
    "    while al2 <= 9:\n",
    "        print('{} * {} = {}'.format(al1, al2, al1 * al2))\n",
    "        al2 += 1\n",
    "    al1 += 1\n",
    "    print()\n",
    "        "
   ]
  },
  {
   "cell_type": "code",
   "execution_count": null,
   "metadata": {
    "collapsed": true
   },
   "outputs": [],
   "source": [
    "import random\n",
    " \n",
    "al1 = random.randint(1, 15)\n",
    "al2 = random.randint(1, 15)\n",
    "al3 = eval(input(str(al1) + \" + \" + str(al2) + \" = \" ))\n",
    "\n",
    "while al1 + al2 != al3:\n",
    "    al3 =eval(input(\"틀렸어! ->> \" + str(al1) + \" + \" + str(al2) + \" = \" ))\n",
    "    \n",
    "print(\"정답 입니다!\")    "
   ]
  },
  {
   "cell_type": "code",
   "execution_count": null,
   "metadata": {
    "collapsed": true
   },
   "outputs": [],
   "source": [
    "a = 0\n",
    "while a < 5:\n",
    "    a += 1\n",
    "    print(a)\n",
    "\n",
    "    if a == 2:\n",
    "        print (\"중단\")\n",
    "        break"
   ]
  },
  {
   "cell_type": "code",
   "execution_count": null,
   "metadata": {
    "collapsed": true
   },
   "outputs": [],
   "source": [
    "a = 0\n",
    "while a<5:\n",
    "    print(a)\n",
    "    a +=2"
   ]
  },
  {
   "cell_type": "code",
   "execution_count": null,
   "metadata": {
    "collapsed": true
   },
   "outputs": [],
   "source": [
    "a = 10\n",
    "b = 0\n",
    "c = 1\n",
    "\n",
    "while c <= a:\n",
    "    b = b + c\n",
    "    c = c+1\n",
    "print(b)"
   ]
  },
  {
   "cell_type": "code",
   "execution_count": null,
   "metadata": {
    "collapsed": true
   },
   "outputs": [],
   "source": [
    "a = ['짜장면', '짬뽕', '라면', '깐쇼']\n",
    "\n",
    "for b in range(len(a)):\n",
    "    print(a[b])"
   ]
  },
  {
   "cell_type": "code",
   "execution_count": null,
   "metadata": {
    "collapsed": true
   },
   "outputs": [],
   "source": [
    "al1 = {'1': 'a', '2': 'b', '3': 'c'}\n",
    "for al2 in al1:\n",
    "    print(al2)\n",
    "    \n",
    "al3 = 0.0;\n",
    "for al4 in range(11):\n",
    "    al3 += al4\n",
    "print(al3)"
   ]
  }
 ],
 "metadata": {
  "kernelspec": {
   "display_name": "Python 3",
   "language": "python",
   "name": "python3"
  },
  "language_info": {
   "codemirror_mode": {
    "name": "ipython",
    "version": 3
   },
   "file_extension": ".py",
   "mimetype": "text/x-python",
   "name": "python",
   "nbconvert_exporter": "python",
   "pygments_lexer": "ipython3",
   "version": "3.6.1"
  }
 },
 "nbformat": 4,
 "nbformat_minor": 2
}
