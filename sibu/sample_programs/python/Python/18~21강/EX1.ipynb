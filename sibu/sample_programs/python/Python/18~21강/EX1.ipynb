{
 "cells": [
  {
   "cell_type": "markdown",
   "metadata": {
    "scrolled": true,
    "slideshow": {
     "slide_type": "skip"
    }
   },
   "source": [
    "<img src=\"https://www.python.org/static/img/python-logo.png\" style='display:inline;margin-right:5px;'>\n",
    "\n",
    "<img src=\"http://www.alzio.co.kr/img_file/builder/icon/201706201643ic_01.gif\" style='display:inline;margin-right:5px;'><img src=\"http://www.alzio.co.kr/img_file/builder/icon/201706204478ic_02.gif\" style='display:inline;margin:0;'>\n",
    "\n",
    "<h1 style='COLOR: #002c5f;margin-top:5px;'>ALZIO - IT전문교육 : Python [고급]</h1><div>"
   ]
  },
  {
   "cell_type": "code",
   "execution_count": null,
   "metadata": {
    "collapsed": true
   },
   "outputs": [],
   "source": [
    "a = int(input('횟수: '))\n",
    "\n",
    "for b in range(0, a, 1):\n",
    "    print(b)"
   ]
  },
  {
   "cell_type": "code",
   "execution_count": null,
   "metadata": {
    "collapsed": true
   },
   "outputs": [],
   "source": [
    "al1 = [70, 90, 55, 95, 30.7]\n",
    "al2 = 0\n",
    "\n",
    "for a in al1:\n",
    "    al2 = al2 + a\n",
    "al3 = al2/len(al1)\n",
    "print(al3)"
   ]
  },
  {
   "cell_type": "code",
   "execution_count": null,
   "metadata": {
    "collapsed": true
   },
   "outputs": [],
   "source": [
    "al1 = [70, 90, 20, 95, 30]\n",
    "al2 = [a + 15 for a in al1 if a %2==0]\n",
    "print(al2)"
   ]
  },
  {
   "cell_type": "code",
   "execution_count": null,
   "metadata": {
    "collapsed": true
   },
   "outputs": [],
   "source": [
    "al1 = [70, 90, 20, 95, 30]\n",
    "al2 = 0\n",
    "\n",
    "for a in al1:\n",
    "    al2 = al2 + 1\n",
    "    if a > 50:continue\n",
    "    print('{0} -> 낙제'.format(al2))"
   ]
  },
  {
   "cell_type": "code",
   "execution_count": null,
   "metadata": {
    "collapsed": true
   },
   "outputs": [],
   "source": [
    "al1 = [2, 0, '3', 5, '7', 15, '1']\n",
    "for a in al1:\n",
    "    if type(a) == type(\"\"):\n",
    "        print(a)\n",
    "        #break\n",
    "        continue\n",
    "else:\n",
    "    print(\"완료\")"
   ]
  },
  {
   "cell_type": "code",
   "execution_count": null,
   "metadata": {
    "collapsed": true
   },
   "outputs": [],
   "source": [
    "al1 = [2, 0, '3', 5, '7', 15, '1']\n",
    "for a in al1:\n",
    "    if type(a) == type(\"\"):\n",
    "        print(a)"
   ]
  },
  {
   "cell_type": "code",
   "execution_count": null,
   "metadata": {
    "collapsed": true
   },
   "outputs": [],
   "source": [
    "a = ['A', 'B', 'C']\n",
    "\n",
    "for b in a:\n",
    "    print(b)"
   ]
  },
  {
   "cell_type": "code",
   "execution_count": null,
   "metadata": {
    "collapsed": true
   },
   "outputs": [],
   "source": [
    "for a in range(0, 5, 3):\n",
    "    print('ALZIO - IT전문교육')"
   ]
  },
  {
   "cell_type": "code",
   "execution_count": null,
   "metadata": {
    "collapsed": true
   },
   "outputs": [],
   "source": [
    "al = [5, 1, 5, 9]\n",
    "\n",
    "for al1 in al:\n",
    "        al2 = al2 + al1\n",
    "print(al2)"
   ]
  },
  {
   "cell_type": "code",
   "execution_count": null,
   "metadata": {
    "collapsed": true
   },
   "outputs": [],
   "source": [
    "engine = 94\n",
    "transmission = 80\n",
    "velocity = 50\n",
    "\n",
    "al1 = (engine + transmission + velocity) /3\n",
    "al2 = engine + transmission + velocity\n",
    "\n",
    "if al1 >= 93:\n",
    "    al3 = 'A등급'\n",
    "    if engine >= 93 and transmission >= 93 and velocity >= 93:\n",
    "        al3 += ' - WIN!'\n",
    "\n",
    "elif al1 >= 90:\n",
    "    al3 ='2000cc'\n",
    "elif al1 >= 85:\n",
    "    al3 ='1600cc'\n",
    "elif al1 >= 75:\n",
    "    al3 ='1000cc'\n",
    "    \n",
    "else:\n",
    "    al3 ='경차'\n",
    "\n",
    "print('평균:', int(al1))\n",
    "print('통합:', al2)\n",
    "print('등급:', al3)"
   ]
  },
  {
   "cell_type": "code",
   "execution_count": null,
   "metadata": {
    "collapsed": true
   },
   "outputs": [],
   "source": [
    "if 비교:\n",
    "      실행\n",
    "      실행2\n",
    "\n",
    "elif 비교 2:\n",
    "      실행\n",
    "      실행2\n",
    "\n",
    "elif 비교 3:\n",
    "      실행\n",
    "      실행2\n",
    "\n",
    "elif 비교 4:\n",
    "      실행\n",
    "      실행2\n",
    "      \n",
    "else:\n",
    "      실행"
   ]
  },
  {
   "cell_type": "code",
   "execution_count": null,
   "metadata": {
    "collapsed": true
   },
   "outputs": [],
   "source": [
    "a = int(input(\"근태: \"))\n",
    "if a >= 200:\n",
    "    all = '승진'\n",
    "elif a >= 190:\n",
    "    all = '급여인상'\n",
    "elif a >= 180:\n",
    "    all = '차기승진'\n",
    "else:\n",
    "    all = '권고사직'    \n",
    "print(all)"
   ]
  },
  {
   "cell_type": "code",
   "execution_count": null,
   "metadata": {
    "collapsed": true
   },
   "outputs": [],
   "source": [
    "a = float(input(\"입력해: \"))\n",
    "if a >= 0:\n",
    "    if a == 0:\n",
    "        print(\"제로\")\n",
    "    else:\n",
    "        print(\"양수\")\n",
    "else:\n",
    "    print(\"음수\")     "
   ]
  },
  {
   "cell_type": "code",
   "execution_count": null,
   "metadata": {
    "collapsed": true
   },
   "outputs": [],
   "source": [
    "a = 9\n",
    "\n",
    "if a >= 0:\n",
    " print(\"양수\")\n",
    "else:\n",
    " print(\"음수\")"
   ]
  },
  {
   "cell_type": "code",
   "execution_count": null,
   "metadata": {
    "collapsed": true
   },
   "outputs": [],
   "source": [
    "a = float(input(\"양수/음수/제로: \"))\n",
    "if a > 0:\n",
    "    print(\"양수\")\n",
    "elif a == 0:\n",
    "    print(\"제로\")\n",
    "else:\n",
    "    print(\"음수\")"
   ]
  },
  {
   "cell_type": "code",
   "execution_count": null,
   "metadata": {
    "collapsed": true
   },
   "outputs": [],
   "source": [
    "#al1 = int(input('거리: '))\n",
    "al1 = float(input('거리: '))\n",
    "al2 = 0.621371\n",
    "\n",
    "al3 = al1 * al2\n",
    "print('{0:.2f} / {1:.2f}'.format(al1, al2))"
   ]
  },
  {
   "cell_type": "code",
   "execution_count": null,
   "metadata": {
    "collapsed": true
   },
   "outputs": [],
   "source": [
    "al1 = [50, 5, 9.8]\n",
    "\n",
    "for al2 in al1:\n",
    "    al3 = al2 * 39.37\n",
    "    \n",
    "    print('{0} m'.format(al2))\n",
    "    print('{0} in \\n'.format(al3))    "
   ]
  },
  {
   "cell_type": "code",
   "execution_count": null,
   "metadata": {
    "collapsed": true
   },
   "outputs": [],
   "source": [
    "import random\n",
    "alzio = []\n",
    "\n",
    "for i in range(0, 20):\n",
    "    alzio.append(i)\n",
    "print(alzio)    \n",
    "\n",
    "al1 = random.choice(alzio)\n",
    "print(al1)\n",
    "\n",
    "al2 = random.sample(alzio, 7)\n",
    "print(al2)\n",
    "\n",
    "random.shuffle(alzio)\n",
    "print(alzio)"
   ]
  },
  {
   "cell_type": "code",
   "execution_count": null,
   "metadata": {
    "collapsed": true
   },
   "outputs": [],
   "source": [
    "import random\n",
    "\n",
    "#print(random.randint(15, 50))\n",
    "#print(random.uniform(15, 50))\n",
    "#print(random.choice(x))\n",
    "\n",
    "x = [\"one\", \"two\", \"tree\", \"for\"]\n",
    "\n",
    "random.shuffle(x)\n",
    "print(x)"
   ]
  },
  {
   "cell_type": "code",
   "execution_count": null,
   "metadata": {
    "collapsed": true
   },
   "outputs": [],
   "source": [
    "import cmath\n",
    "\n",
    "#al1 = 5\n",
    "#al2 = 2\n",
    "#al3 = 3\n",
    "\n",
    "al1 = float(input('1: '))\n",
    "if al1 == 0:\n",
    "    print('2차방정식 의 값이 아니야!')\n",
    "    \n",
    "al2 = float(input('2: '))\n",
    "al3 = float(input('3: '))\n",
    "\n",
    "al4 = (al2 ** 2) - (4 * al1 * al3)\n",
    "\n",
    "al5 = (- al2 + cmath.sqrt(al4))/(2 * al1)\n",
    "al6 = (- al2 - cmath.sqrt(al4))/(2 * al1)\n",
    "\n",
    "print('{0:.3f} / {1:.3f}'.format(al5, al6))"
   ]
  },
  {
   "cell_type": "code",
   "execution_count": null,
   "metadata": {
    "collapsed": true
   },
   "outputs": [],
   "source": [
    "left = float(input('좌: '))\n",
    "right = float(input('우: '))\n",
    "foot = float(input('아래: '))\n",
    "\n",
    "all = (left + right + foot) / 2\n",
    "it = (all*(all-left)*(all-right)*(all-foot)) ** 2\n",
    "print('{0:.2f}'.format(it))"
   ]
  },
  {
   "cell_type": "code",
   "execution_count": null,
   "metadata": {
    "collapsed": true
   },
   "outputs": [],
   "source": [
    "def al1(a, b):\n",
    "    return a * b / 2\n",
    "print(al1(30,13))"
   ]
  },
  {
   "cell_type": "markdown",
   "metadata": {},
   "source": [
    "<b>int</b>(정수), <b>float</b>(실수), <b>str</b>(문자열)\n",
    "\n",
    "산술 연산자 : <b>+</b> <b>*</b> <b>*</b> / % // **\n",
    "\n",
    "비교 연산자 : < > == != <= >=\n",
    "\n",
    "논리 연산자 : and, or, not\n",
    "\n",
    "헤론의 공식 : http://terms.naver.com/entry.nhn?docId=3350242&cid=58247&categoryId=58247\n",
    "\n",
    "공간정보 : http://terms.naver.com/entry.nhn?docId=3484161&cid=58439&categoryId=58439#TABLE_OF_CONTENT2"
   ]
  },
  {
   "cell_type": "code",
   "execution_count": null,
   "metadata": {
    "collapsed": true
   },
   "outputs": [],
   "source": [
    "print('ALZIO - IT전문교육 : Python [고급]')"
   ]
  },
  {
   "cell_type": "code",
   "execution_count": null,
   "metadata": {
    "collapsed": true
   },
   "outputs": [],
   "source": [
    "al1 = input('1번 : ')\n",
    "al2 = input('2번 : ')\n",
    "al3 = input('3번 : ')\n",
    "\n",
    "#al4 = al1 + al2 + al3\n",
    "#al4 = int(al1) * int(al2) * int(al3)\n",
    "al4 = float(al1) + float(al2) + float(al3)\n",
    "\n",
    "print('\\n\\n\\n{0} + {1} + {2} = {3}'.format(al1, al2, al3, al4))"
   ]
  },
  {
   "cell_type": "code",
   "execution_count": null,
   "metadata": {
    "collapsed": true
   },
   "outputs": [],
   "source": [
    "al1 = 36\n",
    "al2 = 95.5\n",
    "al3 = 8\n",
    "#alzio = '알지오'\n",
    "\n",
    "al4 = float(al1) + float(al2) + float(al3)\n",
    "\n",
    "print('{0} + {1} + {2} = {3}'.format(al1, al2, al3, al4))"
   ]
  },
  {
   "cell_type": "code",
   "execution_count": null,
   "metadata": {
    "collapsed": true
   },
   "outputs": [],
   "source": [
    "import cmath\n",
    "\n",
    "al1 = 3 + 5j\n",
    "al2 = cmath.sqrt(al1)\n",
    "\n",
    "print('{0} 제급근--> {1:.2f} + {2:.2f}j'.format(al1, al2.real, al2.imag))"
   ]
  },
  {
   "cell_type": "code",
   "execution_count": null,
   "metadata": {
    "collapsed": true
   },
   "outputs": [],
   "source": [
    "x = 5 + 7j\n",
    "type(x)\n",
    "\n",
    "print(x.real)\n",
    "print(x.imag)"
   ]
  },
  {
   "cell_type": "code",
   "execution_count": null,
   "metadata": {
    "collapsed": true
   },
   "outputs": [],
   "source": [
    "al1 = float(input('입력값: '))\n",
    "al2 = al1 ** 2\n",
    "#print('{0} 의 제곱근은 {1}'.format(al1 ,al2))\n",
    "print('{0} 의 제곱근은 {1:.2f}'.format(al1 ,al2))"
   ]
  }
 ],
 "metadata": {
  "kernelspec": {
   "display_name": "Python 3",
   "language": "python",
   "name": "python3"
  },
  "language_info": {
   "codemirror_mode": {
    "name": "ipython",
    "version": 3
   },
   "file_extension": ".py",
   "mimetype": "text/x-python",
   "name": "python",
   "nbconvert_exporter": "python",
   "pygments_lexer": "ipython3",
   "version": "3.6.1"
  }
 },
 "nbformat": 4,
 "nbformat_minor": 2
}
