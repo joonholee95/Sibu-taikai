{
 "cells": [
  {
   "cell_type": "code",
   "execution_count": 1,
   "metadata": {},
   "outputs": [
    {
     "name": "stdout",
     "output_type": "stream",
     "text": [
      "점수입력 : 50\n",
      "학점: F\n"
     ]
    }
   ],
   "source": [
    "score = int(input(\"점수입력 : \"))\n",
    "if 90 <= score <=100:\n",
    "    grade = \"A\"\n",
    "    \n",
    "elif 80 <= score <90:\n",
    "    grade = \"B\"\n",
    "    \n",
    "elif 70 <= score <80:\n",
    "    grade = \"C\"\n",
    "    \n",
    "elif 60 <= score <70:\n",
    "    grade = \"D\"\n",
    "    \n",
    "else:\n",
    "    grade = \"F\"    \n",
    "print(\"학점: \" + grade)    "
   ]
  }
 ],
 "metadata": {
  "kernelspec": {
   "display_name": "Python 3",
   "language": "python",
   "name": "python3"
  },
  "language_info": {
   "codemirror_mode": {
    "name": "ipython",
    "version": 3
   },
   "file_extension": ".py",
   "mimetype": "text/x-python",
   "name": "python",
   "nbconvert_exporter": "python",
   "pygments_lexer": "ipython3",
   "version": "3.6.1"
  }
 },
 "nbformat": 4,
 "nbformat_minor": 2
}
