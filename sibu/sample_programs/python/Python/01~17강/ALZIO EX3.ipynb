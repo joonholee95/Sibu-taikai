{
 "cells": [
  {
   "cell_type": "code",
   "execution_count": 16,
   "metadata": {
    "scrolled": true
   },
   "outputs": [
    {
     "name": "stdout",
     "output_type": "stream",
     "text": [
      "개인정보 (이름 : 홍두둘, 전화번호 : 010-4567-7654\n",
      "자식의 개인정보 : Child2 (주소 : 서울, 번호 : 01010-111111)\n"
     ]
    }
   ],
   "source": [
    "class Parents:\n",
    "    def __init__(self, name, pn):\n",
    "        self.Name = name\n",
    "        self.PN = pn\n",
    "        \n",
    "    def PrintInfo(self):\n",
    "        print(\"클래스 저장 정보 (이름 : {0}, 전화번호 : {1})\".format(self.Name, self.PN))\n",
    "        \n",
    "    def PrintPersonalData(self):\n",
    "        print(\"개인정보 (이름 : {0}, 전화번호 : {1}\".format(self.Name, self.PN))\n",
    "        \n",
    "\n",
    "class Child(Parents):\n",
    "    def __init__(self, name, pn, address, sn):\n",
    "        Parents.__init__(self, name, pn)\n",
    "        self.Address = address\n",
    "        self.SN = sn\n",
    "        \n",
    "    def PrintChildData(self):\n",
    "        print(\"자식의 정보 (주소 : {0}, 번호 : {1})\".format(self.Address, self.SN))\n",
    "        \n",
    "    def PrintPersonalData(self):\n",
    "        print(\"개인정보 (이름 : {0}, 전화번호 : {1}\".format(self.Name, self.PN))\n",
    "        print(\"자식의 개인정보 (주소 : {0}, 번호 : {1})\".format(self.Address, self.SN))\n",
    "        print(\"자식의 PrintPersonalData메소드입니다\")\n",
    "        \n",
    "        \n",
    "        \n",
    "class Child2(Parents):\n",
    "    def __init__(self, name, pn, address, sn):\n",
    "        Parents.__init__(self, name, pn)\n",
    "        self.Address = address\n",
    "        self.SN = sn\n",
    "        \n",
    "    def PrintChildData(self):\n",
    "        print(\"자식의 정보 (주소 : {0}, 번호 : {1})\".format(self.Address, self.SN))\n",
    "        \n",
    "    def PrintPersonalData(self):\n",
    "        Parents.PrintPersonalData(self)\n",
    "        print(\"자식의 개인정보 : Child2 (주소 : {0}, 번호 : {1})\".format(self.Address, self.SN))\n",
    "        \n",
    "        \n",
    "        \n",
    "        \n",
    "p = Parents(\"홍길동\", \"010-1234-4567\")      \n",
    "c = Child(\"홍아들\", \"010-1234-7654\", \"서울\", \"01010-0110111\")\n",
    "\n",
    "\"\"\"p.PrintInfo()\n",
    "p.PrintPersonalData()\n",
    "\n",
    "c.PrintInfo()\n",
    "c.PrintPersonalData()\n",
    "\n",
    "print(p.__dict__)\n",
    "print(c.__dict__)\n",
    "\n",
    "print(issubclass(Child, Parents))\n",
    "print(issubclass(Parents, Child))\n",
    "\n",
    "print(issubclass(Parents, object))\n",
    "print(issubclass(Child, object))\n",
    "\n",
    "print(Child.__bases__)\n",
    "\n",
    "c.PrintChildData()\n",
    "c.PrintPersonalData()\n",
    "\"\"\"\n",
    "\n",
    "\n",
    "c2 = Child2(\"홍두둘\", \"010-4567-7654\", \"서울\", \"01010-111111\")\n",
    "c2.PrintPersonalData()"
   ]
  },
  {
   "cell_type": "code",
   "execution_count": 21,
   "metadata": {},
   "outputs": [
    {
     "name": "stdout",
     "output_type": "stream",
     "text": [
      "부모클래스:  {'__module__': '__main__', 'x': 10, 'printX': <function SuperClass.printX at 0x0502EFA8>, '__dict__': <attribute '__dict__' of 'SuperClass' objects>, '__weakref__': <attribute '__weakref__' of 'SuperClass' objects>, '__doc__': None}\n",
      "자식클래스:  {'__module__': '__main__', 'y': 20, 'x': 100, 'printY': <function SubClass.printY at 0x0502EE88>, '__doc__': None}\n",
      "s :  {'a': 100}\n",
      "s.x :  100\n"
     ]
    },
    {
     "ename": "AttributeError",
     "evalue": "'SubClass' object has no attribute 'k'",
     "output_type": "error",
     "traceback": [
      "\u001b[1;31m---------------------------------------------------------------------------\u001b[0m",
      "\u001b[1;31mAttributeError\u001b[0m                            Traceback (most recent call last)",
      "\u001b[1;32m<ipython-input-21-a4a8a8731b9c>\u001b[0m in \u001b[0;36m<module>\u001b[1;34m()\u001b[0m\n\u001b[0;32m     18\u001b[0m \u001b[0mprint\u001b[0m\u001b[1;33m(\u001b[0m\u001b[1;34m\"s : \"\u001b[0m\u001b[1;33m,\u001b[0m \u001b[0ms\u001b[0m\u001b[1;33m.\u001b[0m\u001b[0m__dict__\u001b[0m\u001b[1;33m)\u001b[0m\u001b[1;33m\u001b[0m\u001b[0m\n\u001b[0;32m     19\u001b[0m \u001b[0mprint\u001b[0m\u001b[1;33m(\u001b[0m\u001b[1;34m\"s.x : \"\u001b[0m\u001b[1;33m,\u001b[0m \u001b[0ms\u001b[0m\u001b[1;33m.\u001b[0m\u001b[0mx\u001b[0m\u001b[1;33m)\u001b[0m\u001b[1;33m\u001b[0m\u001b[0m\n\u001b[1;32m---> 20\u001b[1;33m \u001b[0mprint\u001b[0m\u001b[1;33m(\u001b[0m\u001b[1;34m\"s.x : \"\u001b[0m\u001b[1;33m,\u001b[0m \u001b[0ms\u001b[0m\u001b[1;33m.\u001b[0m\u001b[0mk\u001b[0m\u001b[1;33m)\u001b[0m\u001b[1;33m\u001b[0m\u001b[0m\n\u001b[0m",
      "\u001b[1;31mAttributeError\u001b[0m: 'SubClass' object has no attribute 'k'"
     ]
    }
   ],
   "source": [
    "class SuperClass:\n",
    "    x=10\n",
    "    def printX(self):\n",
    "        print(self.x)\n",
    "        \n",
    "class SubClass(SuperClass):\n",
    "    y = 20\n",
    "    x = 100\n",
    "    def printY(self):\n",
    "        print(self.y)        \n",
    "        \n",
    "s = SubClass()    \n",
    "\n",
    "s.a = 100\n",
    "\n",
    "print(\"부모클래스: \" , SuperClass.__dict__)\n",
    "print(\"자식클래스: \" , SubClass.__dict__)\n",
    "print(\"s : \", s.__dict__)\n",
    "print(\"s.x : \", s.x)\n",
    "print(\"s.x : \", s.k)"
   ]
  },
  {
   "cell_type": "code",
   "execution_count": 4,
   "metadata": {},
   "outputs": [
    {
     "name": "stdout",
     "output_type": "stream",
     "text": [
      "대화를 합니다\n",
      "달리기를 합니다\n",
      "대화를 합니다\n",
      "달리기를 합니다\n",
      "놀기\n",
      "아빠와 밥을 먹습니다\n",
      "(<class '__main__.child'>, <class '__main__.father'>, <class '__main__.mother'>, <class 'object'>)\n"
     ]
    }
   ],
   "source": [
    "class mother:\n",
    "    def talk(self):\n",
    "        print(\"대화를 합니다\")\n",
    "    def eat(self):\n",
    "        print(\"엄마와 밥을 먹습니다\")\n",
    "        \n",
    "class father:\n",
    "    def running(self):\n",
    "        print(\"달리기를 합니다\")\n",
    "    def eat(self):\n",
    "        print(\"아빠와 밥을 먹습니다\")\n",
    "        \n",
    "class child(father, mother):      \n",
    "    def play(self):\n",
    "        print(\"놀기\")\n",
    "        \n",
    "m = mother()\n",
    "m.talk()\n",
    "\n",
    "f = father()\n",
    "f.running()\n",
    "\n",
    "c = child()\n",
    "c.talk()\n",
    "c.running()\n",
    "c.play()\n",
    "c.eat()\n",
    "\n",
    "print(child.__mro__)"
   ]
  },
  {
   "cell_type": "code",
   "execution_count": 7,
   "metadata": {},
   "outputs": [
    {
     "name": "stdout",
     "output_type": "stream",
     "text": [
      "조상의 생성자 메소드\n",
      "엄마의 생성자 메소드\n",
      "아빠의 생성자 메소드\n",
      "자식의 생성자 메소드\n",
      "(<class '__main__.child'>, <class '__main__.father'>, <class '__main__.mother'>, <class '__main__.ancestor'>, <class 'object'>)\n"
     ]
    }
   ],
   "source": [
    "class ancestor:\n",
    "    def __init__(self):\n",
    "        print(\"조상의 생성자 메소드\")\n",
    "\n",
    "class mother(ancestor):\n",
    "    def __init__(self):\n",
    "        super().__init__()\n",
    "        print(\"엄마의 생성자 메소드\")    \n",
    "    \n",
    "class father(ancestor):\n",
    "    def __init__(self):\n",
    "        super().__init__()\n",
    "        print(\"아빠의 생성자 메소드\")    \n",
    "        \n",
    "class child(father, mother):\n",
    "    def __init__(self):\n",
    "        super().__init__()\n",
    "        print(\"자식의 생성자 메소드\")        \n",
    "        \n",
    "c = child() \n",
    "print(child.__mro__)"
   ]
  },
  {
   "cell_type": "code",
   "execution_count": null,
   "metadata": {
    "collapsed": true
   },
   "outputs": [],
   "source": [
    "Module"
   ]
  },
  {
   "cell_type": "code",
   "execution_count": null,
   "metadata": {
    "collapsed": true
   },
   "outputs": [],
   "source": []
  },
  {
   "cell_type": "code",
   "execution_count": 10,
   "metadata": {},
   "outputs": [
    {
     "name": "stdout",
     "output_type": "stream",
     "text": [
      "3.141592653589793\n"
     ]
    }
   ],
   "source": [
    "import math\n",
    "#print(math.pow(10, 3))\n",
    "#print(math.log(100))\n",
    "print(math.pi)"
   ]
  },
  {
   "cell_type": "code",
   "execution_count": null,
   "metadata": {
    "collapsed": true
   },
   "outputs": [],
   "source": []
  },
  {
   "cell_type": "code",
   "execution_count": 11,
   "metadata": {},
   "outputs": [
    {
     "ename": "TimeoutError",
     "evalue": "[WinError 10060] 연결된 구성원으로부터 응답이 없어 연결하지 못했거나, 호스트로부터 응답이 없어 연결이 끊어졌습니다",
     "output_type": "error",
     "traceback": [
      "\u001b[1;31m---------------------------------------------------------------------------\u001b[0m",
      "\u001b[1;31mTimeoutError\u001b[0m                              Traceback (most recent call last)",
      "\u001b[1;32m<ipython-input-11-44918dcd2bcf>\u001b[0m in \u001b[0;36m<module>\u001b[1;34m()\u001b[0m\n\u001b[0;32m      1\u001b[0m \u001b[1;32mfrom\u001b[0m \u001b[0mftplib\u001b[0m \u001b[1;32mimport\u001b[0m \u001b[0mFTP\u001b[0m\u001b[1;33m\u001b[0m\u001b[0m\n\u001b[1;32m----> 2\u001b[1;33m \u001b[0mmyFtp\u001b[0m \u001b[1;33m=\u001b[0m \u001b[0mFTP\u001b[0m\u001b[1;33m(\u001b[0m\u001b[1;34m'ftp-sp.omronsoft.co.jp'\u001b[0m\u001b[1;33m)\u001b[0m\u001b[1;33m\u001b[0m\u001b[0m\n\u001b[0m\u001b[0;32m      3\u001b[0m \u001b[0mmyFtp\u001b[0m\u001b[1;33m.\u001b[0m\u001b[0mlogin\u001b[0m\u001b[1;33m(\u001b[0m\u001b[1;33m)\u001b[0m\u001b[1;33m\u001b[0m\u001b[0m\n\u001b[0;32m      4\u001b[0m \u001b[1;33m\u001b[0m\u001b[0m\n\u001b[0;32m      5\u001b[0m \u001b[0mmyFtp\u001b[0m\u001b[1;33m.\u001b[0m\u001b[0mretrlines\u001b[0m\u001b[1;33m(\u001b[0m\u001b[1;34m'LIST'\u001b[0m\u001b[1;33m)\u001b[0m\u001b[1;33m\u001b[0m\u001b[0m\n",
      "\u001b[1;32mc:\\users\\ceo-com\\appdata\\local\\programs\\python\\python36-32\\lib\\ftplib.py\u001b[0m in \u001b[0;36m__init__\u001b[1;34m(self, host, user, passwd, acct, timeout, source_address)\u001b[0m\n\u001b[0;32m    115\u001b[0m         \u001b[0mself\u001b[0m\u001b[1;33m.\u001b[0m\u001b[0mtimeout\u001b[0m \u001b[1;33m=\u001b[0m \u001b[0mtimeout\u001b[0m\u001b[1;33m\u001b[0m\u001b[0m\n\u001b[0;32m    116\u001b[0m         \u001b[1;32mif\u001b[0m \u001b[0mhost\u001b[0m\u001b[1;33m:\u001b[0m\u001b[1;33m\u001b[0m\u001b[0m\n\u001b[1;32m--> 117\u001b[1;33m             \u001b[0mself\u001b[0m\u001b[1;33m.\u001b[0m\u001b[0mconnect\u001b[0m\u001b[1;33m(\u001b[0m\u001b[0mhost\u001b[0m\u001b[1;33m)\u001b[0m\u001b[1;33m\u001b[0m\u001b[0m\n\u001b[0m\u001b[0;32m    118\u001b[0m             \u001b[1;32mif\u001b[0m \u001b[0muser\u001b[0m\u001b[1;33m:\u001b[0m\u001b[1;33m\u001b[0m\u001b[0m\n\u001b[0;32m    119\u001b[0m                 \u001b[0mself\u001b[0m\u001b[1;33m.\u001b[0m\u001b[0mlogin\u001b[0m\u001b[1;33m(\u001b[0m\u001b[0muser\u001b[0m\u001b[1;33m,\u001b[0m \u001b[0mpasswd\u001b[0m\u001b[1;33m,\u001b[0m \u001b[0macct\u001b[0m\u001b[1;33m)\u001b[0m\u001b[1;33m\u001b[0m\u001b[0m\n",
      "\u001b[1;32mc:\\users\\ceo-com\\appdata\\local\\programs\\python\\python36-32\\lib\\ftplib.py\u001b[0m in \u001b[0;36mconnect\u001b[1;34m(self, host, port, timeout, source_address)\u001b[0m\n\u001b[0;32m    150\u001b[0m             \u001b[0mself\u001b[0m\u001b[1;33m.\u001b[0m\u001b[0msource_address\u001b[0m \u001b[1;33m=\u001b[0m \u001b[0msource_address\u001b[0m\u001b[1;33m\u001b[0m\u001b[0m\n\u001b[0;32m    151\u001b[0m         self.sock = socket.create_connection((self.host, self.port), self.timeout,\n\u001b[1;32m--> 152\u001b[1;33m                                              source_address=self.source_address)\n\u001b[0m\u001b[0;32m    153\u001b[0m         \u001b[0mself\u001b[0m\u001b[1;33m.\u001b[0m\u001b[0maf\u001b[0m \u001b[1;33m=\u001b[0m \u001b[0mself\u001b[0m\u001b[1;33m.\u001b[0m\u001b[0msock\u001b[0m\u001b[1;33m.\u001b[0m\u001b[0mfamily\u001b[0m\u001b[1;33m\u001b[0m\u001b[0m\n\u001b[0;32m    154\u001b[0m         \u001b[0mself\u001b[0m\u001b[1;33m.\u001b[0m\u001b[0mfile\u001b[0m \u001b[1;33m=\u001b[0m \u001b[0mself\u001b[0m\u001b[1;33m.\u001b[0m\u001b[0msock\u001b[0m\u001b[1;33m.\u001b[0m\u001b[0mmakefile\u001b[0m\u001b[1;33m(\u001b[0m\u001b[1;34m'r'\u001b[0m\u001b[1;33m,\u001b[0m \u001b[0mencoding\u001b[0m\u001b[1;33m=\u001b[0m\u001b[0mself\u001b[0m\u001b[1;33m.\u001b[0m\u001b[0mencoding\u001b[0m\u001b[1;33m)\u001b[0m\u001b[1;33m\u001b[0m\u001b[0m\n",
      "\u001b[1;32mc:\\users\\ceo-com\\appdata\\local\\programs\\python\\python36-32\\lib\\socket.py\u001b[0m in \u001b[0;36mcreate_connection\u001b[1;34m(address, timeout, source_address)\u001b[0m\n\u001b[0;32m    720\u001b[0m \u001b[1;33m\u001b[0m\u001b[0m\n\u001b[0;32m    721\u001b[0m     \u001b[1;32mif\u001b[0m \u001b[0merr\u001b[0m \u001b[1;32mis\u001b[0m \u001b[1;32mnot\u001b[0m \u001b[1;32mNone\u001b[0m\u001b[1;33m:\u001b[0m\u001b[1;33m\u001b[0m\u001b[0m\n\u001b[1;32m--> 722\u001b[1;33m         \u001b[1;32mraise\u001b[0m \u001b[0merr\u001b[0m\u001b[1;33m\u001b[0m\u001b[0m\n\u001b[0m\u001b[0;32m    723\u001b[0m     \u001b[1;32melse\u001b[0m\u001b[1;33m:\u001b[0m\u001b[1;33m\u001b[0m\u001b[0m\n\u001b[0;32m    724\u001b[0m         \u001b[1;32mraise\u001b[0m \u001b[0merror\u001b[0m\u001b[1;33m(\u001b[0m\u001b[1;34m\"getaddrinfo returns an empty list\"\u001b[0m\u001b[1;33m)\u001b[0m\u001b[1;33m\u001b[0m\u001b[0m\n",
      "\u001b[1;32mc:\\users\\ceo-com\\appdata\\local\\programs\\python\\python36-32\\lib\\socket.py\u001b[0m in \u001b[0;36mcreate_connection\u001b[1;34m(address, timeout, source_address)\u001b[0m\n\u001b[0;32m    711\u001b[0m             \u001b[1;32mif\u001b[0m \u001b[0msource_address\u001b[0m\u001b[1;33m:\u001b[0m\u001b[1;33m\u001b[0m\u001b[0m\n\u001b[0;32m    712\u001b[0m                 \u001b[0msock\u001b[0m\u001b[1;33m.\u001b[0m\u001b[0mbind\u001b[0m\u001b[1;33m(\u001b[0m\u001b[0msource_address\u001b[0m\u001b[1;33m)\u001b[0m\u001b[1;33m\u001b[0m\u001b[0m\n\u001b[1;32m--> 713\u001b[1;33m             \u001b[0msock\u001b[0m\u001b[1;33m.\u001b[0m\u001b[0mconnect\u001b[0m\u001b[1;33m(\u001b[0m\u001b[0msa\u001b[0m\u001b[1;33m)\u001b[0m\u001b[1;33m\u001b[0m\u001b[0m\n\u001b[0m\u001b[0;32m    714\u001b[0m             \u001b[1;32mreturn\u001b[0m \u001b[0msock\u001b[0m\u001b[1;33m\u001b[0m\u001b[0m\n\u001b[0;32m    715\u001b[0m \u001b[1;33m\u001b[0m\u001b[0m\n",
      "\u001b[1;31mTimeoutError\u001b[0m: [WinError 10060] 연결된 구성원으로부터 응답이 없어 연결하지 못했거나, 호스트로부터 응답이 없어 연결이 끊어졌습니다"
     ]
    }
   ],
   "source": [
    "from ftplib import FTP\n",
    "myFtp = FTP('ftp-sp.omronsoft.co.jp')\n",
    "myFtp.login()\n",
    "\n",
    "myFtp.retrlines('LIST')\n",
    "myFtp.quit()"
   ]
  },
  {
   "cell_type": "code",
   "execution_count": null,
   "metadata": {
    "collapsed": true
   },
   "outputs": [],
   "source": [
    "www.ftp-sites.org"
   ]
  },
  {
   "cell_type": "code",
   "execution_count": null,
   "metadata": {
    "collapsed": true
   },
   "outputs": [],
   "source": []
  },
  {
   "cell_type": "code",
   "execution_count": 12,
   "metadata": {
    "collapsed": true
   },
   "outputs": [],
   "source": [
    "from functools import *\n",
    "def intersect(*ar):\n",
    "    return reduce(__intersectSC, ar)\n",
    "\n",
    "def __intersectSC(listX, listY):\n",
    "    setList = []\n",
    "    for x in listX:\n",
    "        if x in listY:\n",
    "            setList.append(x)\n",
    "    \n",
    "    return setList\n",
    "\n",
    "def difference(*ar):\n",
    "    setList = []\n",
    "    inersectSet = intersect(*ar)\n",
    "    unionSet = union(*ar)\n",
    "    for x in unionSet:\n",
    "        if not x in inersectSet:\n",
    "            setList.append(x)\n",
    "    return setList\n",
    "\n",
    "def union(*ar):\n",
    "    setList = []\n",
    "    for item in ar:\n",
    "        for x in item:\n",
    "            if not x in setList:\n",
    "                setList.append(x)\n",
    "                \n",
    "    return setList"
   ]
  },
  {
   "cell_type": "code",
   "execution_count": 1,
   "metadata": {
    "collapsed": true
   },
   "outputs": [],
   "source": [
    "import alziopy"
   ]
  },
  {
   "cell_type": "code",
   "execution_count": 2,
   "metadata": {
    "collapsed": true
   },
   "outputs": [],
   "source": [
    "from alziopy import union"
   ]
  },
  {
   "cell_type": "code",
   "execution_count": 3,
   "metadata": {},
   "outputs": [
    {
     "name": "stdout",
     "output_type": "stream",
     "text": [
      "[1, 2, 3, 4, 5, 6]\n"
     ]
    }
   ],
   "source": [
    "print(union([1, 2, 3], [3], [3, 4, 5,] ,[4, 5, 6]))"
   ]
  },
  {
   "cell_type": "code",
   "execution_count": 4,
   "metadata": {},
   "outputs": [
    {
     "ename": "NameError",
     "evalue": "name 'intersect' is not defined",
     "output_type": "error",
     "traceback": [
      "\u001b[1;31m---------------------------------------------------------------------------\u001b[0m",
      "\u001b[1;31mNameError\u001b[0m                                 Traceback (most recent call last)",
      "\u001b[1;32m<ipython-input-4-01b54b3f7a01>\u001b[0m in \u001b[0;36m<module>\u001b[1;34m()\u001b[0m\n\u001b[1;32m----> 1\u001b[1;33m \u001b[0mprint\u001b[0m\u001b[1;33m(\u001b[0m\u001b[0mintersect\u001b[0m\u001b[1;33m(\u001b[0m\u001b[1;33m[\u001b[0m\u001b[1;36m1\u001b[0m\u001b[1;33m,\u001b[0m \u001b[1;36m2\u001b[0m\u001b[1;33m,\u001b[0m \u001b[1;36m3\u001b[0m\u001b[1;33m,\u001b[0m \u001b[1;36m4\u001b[0m\u001b[1;33m]\u001b[0m\u001b[1;33m,\u001b[0m \u001b[1;33m[\u001b[0m\u001b[1;36m2\u001b[0m\u001b[1;33m,\u001b[0m \u001b[1;36m3\u001b[0m\u001b[1;33m,\u001b[0m \u001b[1;36m5\u001b[0m\u001b[1;33m]\u001b[0m\u001b[1;33m)\u001b[0m\u001b[1;33m)\u001b[0m\u001b[1;33m\u001b[0m\u001b[0m\n\u001b[0m",
      "\u001b[1;31mNameError\u001b[0m: name 'intersect' is not defined"
     ]
    }
   ],
   "source": [
    "print(intersect([1, 2, 3, 4], [2, 3, 5]))"
   ]
  },
  {
   "cell_type": "code",
   "execution_count": 5,
   "metadata": {
    "collapsed": true
   },
   "outputs": [],
   "source": [
    "import alziopy"
   ]
  },
  {
   "cell_type": "code",
   "execution_count": 6,
   "metadata": {},
   "outputs": [
    {
     "data": {
      "text/plain": [
       "['WRAPPER_ASSIGNMENTS',\n",
       " 'WRAPPER_UPDATES',\n",
       " '__builtins__',\n",
       " '__cached__',\n",
       " '__doc__',\n",
       " '__file__',\n",
       " '__intersectSC',\n",
       " '__loader__',\n",
       " '__name__',\n",
       " '__package__',\n",
       " '__spec__',\n",
       " 'cmp_to_key',\n",
       " 'difference',\n",
       " 'intersect',\n",
       " 'lru_cache',\n",
       " 'partial',\n",
       " 'partialmethod',\n",
       " 'reduce',\n",
       " 'singledispatch',\n",
       " 'total_ordering',\n",
       " 'union',\n",
       " 'update_wrapper',\n",
       " 'wraps']"
      ]
     },
     "execution_count": 6,
     "metadata": {},
     "output_type": "execute_result"
    }
   ],
   "source": [
    "dir(alziopy)"
   ]
  },
  {
   "cell_type": "code",
   "execution_count": 7,
   "metadata": {
    "collapsed": true
   },
   "outputs": [],
   "source": [
    "from alziopy import *"
   ]
  },
  {
   "cell_type": "code",
   "execution_count": 8,
   "metadata": {},
   "outputs": [
    {
     "data": {
      "text/plain": [
       "['In',\n",
       " 'Out',\n",
       " 'WRAPPER_ASSIGNMENTS',\n",
       " 'WRAPPER_UPDATES',\n",
       " '_',\n",
       " '_6',\n",
       " '__',\n",
       " '___',\n",
       " '__builtin__',\n",
       " '__builtins__',\n",
       " '__doc__',\n",
       " '__loader__',\n",
       " '__name__',\n",
       " '__package__',\n",
       " '__spec__',\n",
       " '_dh',\n",
       " '_i',\n",
       " '_i1',\n",
       " '_i2',\n",
       " '_i3',\n",
       " '_i4',\n",
       " '_i5',\n",
       " '_i6',\n",
       " '_i7',\n",
       " '_i8',\n",
       " '_ih',\n",
       " '_ii',\n",
       " '_iii',\n",
       " '_oh',\n",
       " 'alziopy',\n",
       " 'cmp_to_key',\n",
       " 'difference',\n",
       " 'exit',\n",
       " 'get_ipython',\n",
       " 'intersect',\n",
       " 'lru_cache',\n",
       " 'partial',\n",
       " 'partialmethod',\n",
       " 'quit',\n",
       " 'reduce',\n",
       " 'singledispatch',\n",
       " 'total_ordering',\n",
       " 'union',\n",
       " 'update_wrapper',\n",
       " 'wraps']"
      ]
     },
     "execution_count": 8,
     "metadata": {},
     "output_type": "execute_result"
    }
   ],
   "source": [
    "dir()"
   ]
  },
  {
   "cell_type": "code",
   "execution_count": null,
   "metadata": {
    "collapsed": true
   },
   "outputs": [],
   "source": [
    "오류"
   ]
  },
  {
   "cell_type": "code",
   "execution_count": 9,
   "metadata": {
    "collapsed": true
   },
   "outputs": [],
   "source": [
    "a = [1,2,3,4,5]"
   ]
  },
  {
   "cell_type": "code",
   "execution_count": 11,
   "metadata": {},
   "outputs": [
    {
     "data": {
      "text/plain": [
       "4"
      ]
     },
     "execution_count": 11,
     "metadata": {},
     "output_type": "execute_result"
    }
   ],
   "source": [
    "a[3]"
   ]
  },
  {
   "cell_type": "code",
   "execution_count": 13,
   "metadata": {},
   "outputs": [
    {
     "name": "stdout",
     "output_type": "stream",
     "text": [
      "숫자로만 나누기가 됩니다\n"
     ]
    }
   ],
   "source": [
    "def divide(a, b):\n",
    "    return a / b\n",
    "\n",
    "try:\n",
    "    c = divide(\"14\", 0)\n",
    "\n",
    "except ZeroDivisionError:\n",
    "    print(\"0으로 나누면 안되요\")\n",
    "except TypeError:\n",
    "    print(\"숫자로만 나누기가 됩니다\")\n",
    "except:    \n",
    "    print(\"알수 없는 오류가 발생했습니다\")"
   ]
  },
  {
   "cell_type": "code",
   "execution_count": 14,
   "metadata": {
    "scrolled": true
   },
   "outputs": [
    {
     "ename": "AssertionError",
     "evalue": "숫자만 입력하세요",
     "output_type": "error",
     "traceback": [
      "\u001b[1;31m---------------------------------------------------------------------------\u001b[0m",
      "\u001b[1;31mAssertionError\u001b[0m                            Traceback (most recent call last)",
      "\u001b[1;32m<ipython-input-14-ec76a5c60b5f>\u001b[0m in \u001b[0;36m<module>\u001b[1;34m()\u001b[0m\n\u001b[0;32m      3\u001b[0m     \u001b[1;32mreturn\u001b[0m \u001b[0mx\u001b[0m \u001b[1;33m*\u001b[0m \u001b[1;36m100\u001b[0m\u001b[1;33m\u001b[0m\u001b[0m\n\u001b[0;32m      4\u001b[0m \u001b[1;33m\u001b[0m\u001b[0m\n\u001b[1;32m----> 5\u001b[1;33m \u001b[0mrslt\u001b[0m \u001b[1;33m=\u001b[0m \u001b[0mmyfunc\u001b[0m\u001b[1;33m(\u001b[0m\u001b[1;34m'가'\u001b[0m\u001b[1;33m)\u001b[0m\u001b[1;33m\u001b[0m\u001b[0m\n\u001b[0m\u001b[0;32m      6\u001b[0m \u001b[0mprint\u001b[0m\u001b[1;33m(\u001b[0m\u001b[0mrslt\u001b[0m\u001b[1;33m)\u001b[0m\u001b[1;33m\u001b[0m\u001b[0m\n",
      "\u001b[1;32m<ipython-input-14-ec76a5c60b5f>\u001b[0m in \u001b[0;36mmyfunc\u001b[1;34m(x)\u001b[0m\n\u001b[0;32m      1\u001b[0m \u001b[1;32mdef\u001b[0m \u001b[0mmyfunc\u001b[0m\u001b[1;33m(\u001b[0m\u001b[0mx\u001b[0m\u001b[1;33m)\u001b[0m\u001b[1;33m:\u001b[0m\u001b[1;33m\u001b[0m\u001b[0m\n\u001b[1;32m----> 2\u001b[1;33m     \u001b[1;32massert\u001b[0m \u001b[0mtype\u001b[0m\u001b[1;33m(\u001b[0m\u001b[0mx\u001b[0m\u001b[1;33m)\u001b[0m \u001b[1;33m==\u001b[0m \u001b[0mint\u001b[0m\u001b[1;33m,\u001b[0m \u001b[1;34m\"숫자만 입력하세요\"\u001b[0m\u001b[1;33m\u001b[0m\u001b[0m\n\u001b[0m\u001b[0;32m      3\u001b[0m     \u001b[1;32mreturn\u001b[0m \u001b[0mx\u001b[0m \u001b[1;33m*\u001b[0m \u001b[1;36m100\u001b[0m\u001b[1;33m\u001b[0m\u001b[0m\n\u001b[0;32m      4\u001b[0m \u001b[1;33m\u001b[0m\u001b[0m\n\u001b[0;32m      5\u001b[0m \u001b[0mrslt\u001b[0m \u001b[1;33m=\u001b[0m \u001b[0mmyfunc\u001b[0m\u001b[1;33m(\u001b[0m\u001b[1;34m'가'\u001b[0m\u001b[1;33m)\u001b[0m\u001b[1;33m\u001b[0m\u001b[0m\n",
      "\u001b[1;31mAssertionError\u001b[0m: 숫자만 입력하세요"
     ]
    }
   ],
   "source": [
    "def myfunc(x):\n",
    "    assert type(x) == int, \"숫자만 입력하세요\"\n",
    "    return x * 100\n",
    "\n",
    "rslt = myfunc('가')\n",
    "print(rslt)"
   ]
  },
  {
   "cell_type": "code",
   "execution_count": 4,
   "metadata": {
    "scrolled": true
   },
   "outputs": [
    {
     "name": "stdout",
     "output_type": "stream",
     "text": [
      "A, C, B\n"
     ]
    }
   ],
   "source": [
    "print(\"{0}, {1}, {2}\".format(\"A\",\"C\",\"B\"))"
   ]
  },
  {
   "cell_type": "code",
   "execution_count": 6,
   "metadata": {},
   "outputs": [
    {
     "name": "stdout",
     "output_type": "stream",
     "text": [
      "B, A\n"
     ]
    }
   ],
   "source": [
    "print(\"{ab}, {cd}\".format(cd=\"A\", ab=\"B\"))"
   ]
  },
  {
   "cell_type": "code",
   "execution_count": 9,
   "metadata": {},
   "outputs": [
    {
     "name": "stdout",
     "output_type": "stream",
     "text": [
      "1 * 1 = 1    \n",
      "2 * 2 = 4    \n",
      "3 * 3 = 9    \n",
      "4 * 4 = 16   \n",
      "5 * 5 = 25   \n",
      "6 * 6 = 36   \n",
      "7 * 7 = 49   \n",
      "8 * 8 = 64   \n"
     ]
    }
   ],
   "source": [
    "for x in range(1, 9):\n",
    "    print(x, \"*\", x, '=', str(x * x).ljust(5))"
   ]
  },
  {
   "cell_type": "code",
   "execution_count": 10,
   "metadata": {
    "scrolled": true
   },
   "outputs": [
    {
     "name": "stdout",
     "output_type": "stream",
     "text": [
      "1 * 1 =   1  \n",
      "2 * 2 =   4  \n",
      "3 * 3 =   9  \n",
      "4 * 4 =   16 \n",
      "5 * 5 =   25 \n",
      "6 * 6 =   36 \n",
      "7 * 7 =   49 \n",
      "8 * 8 =   64 \n",
      "9 * 9 =   81 \n",
      "10 * 10 =  100 \n",
      "11 * 11 =  121 \n",
      "12 * 12 =  144 \n",
      "13 * 13 =  169 \n",
      "14 * 14 =  196 \n",
      "15 * 15 =  225 \n",
      "16 * 16 =  256 \n",
      "17 * 17 =  289 \n",
      "18 * 18 =  324 \n",
      "19 * 19 =  361 \n"
     ]
    }
   ],
   "source": [
    "for x in range(1, 20):\n",
    "    print(x, \"*\", x, '=', str(x * x).center(5))"
   ]
  },
  {
   "cell_type": "code",
   "execution_count": null,
   "metadata": {},
   "outputs": [],
   "source": [
    "print(\"{0:$>+5}\".format(10))"
   ]
  },
  {
   "cell_type": "code",
   "execution_count": null,
   "metadata": {
    "collapsed": true
   },
   "outputs": [],
   "source": [
    "10/2/8"
   ]
  },
  {
   "cell_type": "code",
   "execution_count": 43,
   "metadata": {},
   "outputs": [
    {
     "name": "stdout",
     "output_type": "stream",
     "text": [
      "10\n"
     ]
    }
   ],
   "source": [
    "print(\"{0:x}\".format(16))"
   ]
  },
  {
   "cell_type": "code",
   "execution_count": 44,
   "metadata": {},
   "outputs": [
    {
     "name": "stdout",
     "output_type": "stream",
     "text": [
      "10000\n"
     ]
    }
   ],
   "source": [
    "print(\"{0:b}\".format(16))"
   ]
  },
  {
   "cell_type": "code",
   "execution_count": 45,
   "metadata": {},
   "outputs": [
    {
     "name": "stdout",
     "output_type": "stream",
     "text": [
      "20\n"
     ]
    }
   ],
   "source": [
    "print(\"{0:o}\".format(16))"
   ]
  },
  {
   "cell_type": "code",
   "execution_count": 46,
   "metadata": {},
   "outputs": [
    {
     "name": "stdout",
     "output_type": "stream",
     "text": [
      "A\n"
     ]
    }
   ],
   "source": [
    "print(\"{0:c}\".format(65))"
   ]
  },
  {
   "cell_type": "code",
   "execution_count": 47,
   "metadata": {},
   "outputs": [
    {
     "name": "stdout",
     "output_type": "stream",
     "text": [
      "1.333333e+00\n"
     ]
    }
   ],
   "source": [
    "print(\"{0:e}\".format(4 / 3))"
   ]
  },
  {
   "cell_type": "code",
   "execution_count": 48,
   "metadata": {},
   "outputs": [
    {
     "name": "stdout",
     "output_type": "stream",
     "text": [
      "1.333333\n"
     ]
    }
   ],
   "source": [
    "print(\"{0:f}\".format(4 / 3))"
   ]
  },
  {
   "cell_type": "code",
   "execution_count": 49,
   "metadata": {},
   "outputs": [
    {
     "name": "stdout",
     "output_type": "stream",
     "text": [
      "133.333333%\n"
     ]
    }
   ],
   "source": [
    "print(\"{0:%}\".format(4 / 3))"
   ]
  },
  {
   "cell_type": "code",
   "execution_count": 50,
   "metadata": {},
   "outputs": [
    {
     "name": "stdout",
     "output_type": "stream",
     "text": [
      "1.3333\n"
     ]
    }
   ],
   "source": [
    "print(\"{0:.4f}\".format(4 / 3))"
   ]
  },
  {
   "cell_type": "code",
   "execution_count": 52,
   "metadata": {},
   "outputs": [
    {
     "name": "stdout",
     "output_type": "stream",
     "text": [
      "1.67\n"
     ]
    }
   ],
   "source": [
    "print(\"{0:.2f}\".format(5 / 3))"
   ]
  },
  {
   "cell_type": "code",
   "execution_count": 53,
   "metadata": {
    "collapsed": true
   },
   "outputs": [],
   "source": [
    "f = open(\"alziookok.txt\", \"w\")"
   ]
  },
  {
   "cell_type": "code",
   "execution_count": 54,
   "metadata": {},
   "outputs": [
    {
     "data": {
      "text/plain": [
       "17"
      ]
     },
     "execution_count": 54,
     "metadata": {},
     "output_type": "execute_result"
    }
   ],
   "source": [
    "f.write(\"알지오 IT전문교육\\n2003!!\")"
   ]
  },
  {
   "cell_type": "code",
   "execution_count": 55,
   "metadata": {
    "collapsed": true
   },
   "outputs": [],
   "source": [
    "f.close()"
   ]
  },
  {
   "cell_type": "code",
   "execution_count": 56,
   "metadata": {
    "collapsed": true
   },
   "outputs": [],
   "source": [
    "f = open(\"alziookok.txt\")"
   ]
  },
  {
   "cell_type": "code",
   "execution_count": 58,
   "metadata": {},
   "outputs": [
    {
     "data": {
      "text/plain": [
       "'알지오 IT전문교육\\n2003!!'"
      ]
     },
     "execution_count": 58,
     "metadata": {},
     "output_type": "execute_result"
    }
   ],
   "source": [
    "f.read()"
   ]
  },
  {
   "cell_type": "code",
   "execution_count": 59,
   "metadata": {
    "collapsed": true
   },
   "outputs": [],
   "source": [
    "f.close()"
   ]
  },
  {
   "cell_type": "code",
   "execution_count": 60,
   "metadata": {},
   "outputs": [
    {
     "data": {
      "text/plain": [
       "True"
      ]
     },
     "execution_count": 60,
     "metadata": {},
     "output_type": "execute_result"
    }
   ],
   "source": [
    "f.closed"
   ]
  },
  {
   "cell_type": "code",
   "execution_count": 61,
   "metadata": {
    "collapsed": true
   },
   "outputs": [],
   "source": [
    "f = open(\"alziookok.txt\")"
   ]
  },
  {
   "cell_type": "code",
   "execution_count": 62,
   "metadata": {},
   "outputs": [
    {
     "data": {
      "text/plain": [
       "'알지오 IT전문교육\\n2003!!'"
      ]
     },
     "execution_count": 62,
     "metadata": {},
     "output_type": "execute_result"
    }
   ],
   "source": [
    "f.read()"
   ]
  },
  {
   "cell_type": "code",
   "execution_count": 63,
   "metadata": {},
   "outputs": [
    {
     "data": {
      "text/plain": [
       "''"
      ]
     },
     "execution_count": 63,
     "metadata": {},
     "output_type": "execute_result"
    }
   ],
   "source": [
    "f.read()"
   ]
  },
  {
   "cell_type": "code",
   "execution_count": 64,
   "metadata": {},
   "outputs": [
    {
     "data": {
      "text/plain": [
       "25"
      ]
     },
     "execution_count": 64,
     "metadata": {},
     "output_type": "execute_result"
    }
   ],
   "source": [
    "f.tell()"
   ]
  },
  {
   "cell_type": "code",
   "execution_count": 65,
   "metadata": {},
   "outputs": [
    {
     "data": {
      "text/plain": [
       "3"
      ]
     },
     "execution_count": 65,
     "metadata": {},
     "output_type": "execute_result"
    }
   ],
   "source": [
    "f.seek(3)"
   ]
  },
  {
   "cell_type": "code",
   "execution_count": 66,
   "metadata": {},
   "outputs": [
    {
     "ename": "UnicodeDecodeError",
     "evalue": "'cp949' codec can't decode byte 0xc0 in position 2: illegal multibyte sequence",
     "output_type": "error",
     "traceback": [
      "\u001b[1;31m---------------------------------------------------------------------------\u001b[0m",
      "\u001b[1;31mUnicodeDecodeError\u001b[0m                        Traceback (most recent call last)",
      "\u001b[1;32m<ipython-input-66-bacd0e0f09a3>\u001b[0m in \u001b[0;36m<module>\u001b[1;34m()\u001b[0m\n\u001b[1;32m----> 1\u001b[1;33m \u001b[0mf\u001b[0m\u001b[1;33m.\u001b[0m\u001b[0mread\u001b[0m\u001b[1;33m(\u001b[0m\u001b[1;33m)\u001b[0m\u001b[1;33m\u001b[0m\u001b[0m\n\u001b[0m",
      "\u001b[1;31mUnicodeDecodeError\u001b[0m: 'cp949' codec can't decode byte 0xc0 in position 2: illegal multibyte sequence"
     ]
    }
   ],
   "source": [
    "f.read()"
   ]
  },
  {
   "cell_type": "code",
   "execution_count": 71,
   "metadata": {},
   "outputs": [
    {
     "data": {
      "text/plain": [
       "7"
      ]
     },
     "execution_count": 71,
     "metadata": {},
     "output_type": "execute_result"
    }
   ],
   "source": [
    "f.seek(7)"
   ]
  },
  {
   "cell_type": "code",
   "execution_count": 72,
   "metadata": {},
   "outputs": [
    {
     "data": {
      "text/plain": [
       "'IT전문교육\\n2003!!'"
      ]
     },
     "execution_count": 72,
     "metadata": {},
     "output_type": "execute_result"
    }
   ],
   "source": [
    "f.read()"
   ]
  },
  {
   "cell_type": "code",
   "execution_count": 73,
   "metadata": {
    "scrolled": true
   },
   "outputs": [
    {
     "data": {
      "text/plain": [
       "0"
      ]
     },
     "execution_count": 73,
     "metadata": {},
     "output_type": "execute_result"
    }
   ],
   "source": [
    "f.seek(0)"
   ]
  },
  {
   "cell_type": "code",
   "execution_count": 76,
   "metadata": {},
   "outputs": [
    {
     "data": {
      "text/plain": [
       "[]"
      ]
     },
     "execution_count": 76,
     "metadata": {},
     "output_type": "execute_result"
    }
   ],
   "source": [
    "f.readlines()"
   ]
  },
  {
   "cell_type": "code",
   "execution_count": 75,
   "metadata": {},
   "outputs": [
    {
     "data": {
      "text/plain": [
       "'2003!!'"
      ]
     },
     "execution_count": 75,
     "metadata": {},
     "output_type": "execute_result"
    }
   ],
   "source": [
    "f.readline()"
   ]
  }
 ],
 "metadata": {
  "kernelspec": {
   "display_name": "Python 3",
   "language": "python",
   "name": "python3"
  },
  "language_info": {
   "codemirror_mode": {
    "name": "ipython",
    "version": 3
   },
   "file_extension": ".py",
   "mimetype": "text/x-python",
   "name": "python",
   "nbconvert_exporter": "python",
   "pygments_lexer": "ipython3",
   "version": "3.6.1"
  }
 },
 "nbformat": 4,
 "nbformat_minor": 2
}
