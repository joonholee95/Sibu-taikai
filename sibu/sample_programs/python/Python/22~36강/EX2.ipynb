{
 "cells": [
  {
   "cell_type": "code",
   "execution_count": null,
   "metadata": {
    "collapsed": true
   },
   "outputs": [],
   "source": [
    "al1 = ['1', '2', '3', '4']\n",
    "itt = ' ### '\n",
    "print(itt.join(al1))\n",
    "\n",
    "al2 = ('1', '2', '3', '4')\n",
    "print(itt.join(al2))\n",
    "\n",
    "al3 = 'abcdef'\n",
    "al4 = ' 4567 '\n",
    "\n",
    "print(al3.join(al4))\n",
    "print(al4.join(al3))"
   ]
  },
  {
   "cell_type": "code",
   "execution_count": null,
   "metadata": {
    "collapsed": true
   },
   "outputs": [],
   "source": [
    "al1 = \"alzio\"\n",
    "print(al1.isupper());\n",
    "\n",
    "al1 = \"ALZIO2003\"\n",
    "print(al1.isupper());\n",
    "\n",
    "al1 = \"ALZIOco\"\n",
    "print(al1.isupper());"
   ]
  },
  {
   "cell_type": "code",
   "execution_count": null,
   "metadata": {
    "collapsed": true
   },
   "outputs": [],
   "source": [
    "al1 = 'alzio'\n",
    "if al1.islower() == True:\n",
    "    print('yes')\n",
    "else:\n",
    "    print('no')\n",
    "\n",
    "al1 = 'Alzio'\n",
    "if al1.islower() == True:\n",
    "    print('yes')\n",
    "else:\n",
    "    print('No')"
   ]
  },
  {
   "cell_type": "code",
   "execution_count": null,
   "metadata": {
    "collapsed": true
   },
   "outputs": [],
   "source": [
    "al1 = 'alzio'\n",
    "print(al1.islower())\n",
    "\n",
    "al1 = 'alzio.co.kr'\n",
    "print(al1.islower())\n",
    "\n",
    "al1 = 'Alzio'\n",
    "print(al1.islower())"
   ]
  },
  {
   "cell_type": "code",
   "execution_count": null,
   "metadata": {
    "collapsed": true
   },
   "outputs": [],
   "source": [
    "#isdecimal, isdigit, isidentifier, isnumeric\n",
    "\n",
    "al1 = \"alzio\"\n",
    "print(al1.isalpha())\n",
    "\n",
    "al1 = \"alzi o\"\n",
    "print(al1.isalpha())\n",
    "\n",
    "al1 = \"alzio2003\"\n",
    "print(al1.isalpha())"
   ]
  },
  {
   "cell_type": "code",
   "execution_count": null,
   "metadata": {
    "collapsed": true
   },
   "outputs": [],
   "source": [
    "al1 = \"al zio\"\n",
    "\n",
    "if al1.isalnum() == True:\n",
    "    print(\"yes\")\n",
    "else:\n",
    "    print(\"no\")"
   ]
  },
  {
   "cell_type": "code",
   "execution_count": null,
   "metadata": {
    "collapsed": true
   },
   "outputs": [],
   "source": [
    "al1 = \"12345\"\n",
    "print(al1.isalnum())\n",
    "\n",
    "al1 = \"alzio.\"\n",
    "print(al1.isalnum())\n",
    "\n",
    "al1 = \"alzio. co\"\n",
    "print(al1.isalnum())"
   ]
  },
  {
   "cell_type": "code",
   "execution_count": null,
   "metadata": {
    "collapsed": true
   },
   "outputs": [],
   "source": [
    "al1 = 'it\\talzio\\t2003'\n",
    "al2 = al1.expandtabs()\n",
    "\n",
    "print(al1.expandtabs(7))\n",
    "print(al1.expandtabs(8))\n",
    "print(al2)\n",
    "print(al1.expandtabs(9))\n",
    "print(al1.expandtabs(10))"
   ]
  },
  {
   "cell_type": "code",
   "execution_count": null,
   "metadata": {
    "collapsed": true
   },
   "outputs": [],
   "source": [
    "al1 = \"alzio.co.kr\"\n",
    "xx = al1.startswith('alzio.co.kr')\n",
    "print(xx)"
   ]
  },
  {
   "cell_type": "code",
   "execution_count": null,
   "metadata": {
    "collapsed": true
   },
   "outputs": [],
   "source": [
    "xx = al1.endswith('r')\n",
    "print(xx)"
   ]
  },
  {
   "cell_type": "code",
   "execution_count": null,
   "metadata": {
    "collapsed": true
   },
   "outputs": [],
   "source": [
    "al1 = \"alzio\"\n",
    "al2 = al1.center(200)\n",
    "print(al2)"
   ]
  },
  {
   "cell_type": "code",
   "execution_count": null,
   "metadata": {
    "collapsed": true
   },
   "outputs": [],
   "source": [
    "al1 = \"alzio.co.kr\"\n",
    "al2 = al1.capitalize()\n",
    "\n",
    "print(al2)"
   ]
  },
  {
   "cell_type": "code",
   "execution_count": null,
   "metadata": {
    "collapsed": true
   },
   "outputs": [],
   "source": [
    "al1 = {1, 2, 3, 4, 5, 6}\n",
    "al1.discard(6)\n",
    "print(al1)"
   ]
  },
  {
   "cell_type": "code",
   "execution_count": null,
   "metadata": {
    "collapsed": true
   },
   "outputs": [],
   "source": [
    "al1 = {'a', 'c', 'g', 'd'}\n",
    "al2 = {'c', 'f', 'g'}\n",
    "\n",
    "okk = al1.difference_update(al2)\n",
    "\n",
    "print(okk)\n",
    "print('al1 = ', al1)\n",
    "print('al2 = ', al2)"
   ]
  },
  {
   "cell_type": "code",
   "execution_count": null,
   "metadata": {
    "collapsed": true
   },
   "outputs": [],
   "source": [
    "A = {'a', 'b', 'c'}\n",
    "B = {'c', 'f', 'g'}\n",
    "\n",
    "print(A-B)\n",
    "print(B-A)"
   ]
  },
  {
   "cell_type": "code",
   "execution_count": null,
   "metadata": {
    "collapsed": true
   },
   "outputs": [],
   "source": [
    "al1 = {'a', 'b', 'c', 'd'}\n",
    "al2 = {'c', 'i', 'o'}\n",
    "\n",
    "print(al1.difference(al2))\n",
    "print(al2.difference(al1))"
   ]
  },
  {
   "cell_type": "code",
   "execution_count": null,
   "metadata": {
    "collapsed": true
   },
   "outputs": [],
   "source": [
    "al1 = {'a', 'l', 'z'}\n",
    "\n",
    "al1.add('i')\n",
    "print(al1)\n",
    "\n",
    "al1.add('o')\n",
    "print(al1)\n",
    "\n",
    "al1.add('a')\n",
    "print(al1)"
   ]
  },
  {
   "cell_type": "code",
   "execution_count": null,
   "metadata": {
    "collapsed": true
   },
   "outputs": [],
   "source": [
    "al1 = [1, 2, 3, 4, 5]\n",
    "al2 = al1\n",
    "\n",
    "al2.append([6,7,8])\n",
    "print(al2 )"
   ]
  },
  {
   "cell_type": "code",
   "execution_count": null,
   "metadata": {
    "collapsed": true
   },
   "outputs": [],
   "source": [
    "al1 = ['벤츠', 'bmw', '롤스로이스']\n",
    "for x in reversed(al1):\n",
    "    print(x)"
   ]
  },
  {
   "cell_type": "code",
   "execution_count": null,
   "metadata": {
    "collapsed": true
   },
   "outputs": [],
   "source": [
    "al1 = ['벤츠', 'bmw', '롤스로이스']\n",
    "print('기본: ', al1)\n",
    "\n",
    "al1.reverse()\n",
    "print('reverse: ', al1)"
   ]
  },
  {
   "cell_type": "code",
   "execution_count": null,
   "metadata": {
    "collapsed": true
   },
   "outputs": [],
   "source": [
    "al1 = ['a', 'l', 'z', 'i', 'o', 'a', 'a']\n",
    "al2 = al1.count('a')\n",
    "print(al2)"
   ]
  },
  {
   "cell_type": "code",
   "execution_count": null,
   "metadata": {
    "collapsed": true
   },
   "outputs": [],
   "source": [
    "al1 = ['a', ('l', 'z'), ['i', 'o'], 'alzio.co.kr', 2003]\n",
    "al2 = al1.index(('l', 'z'))\n",
    "print(al2)\n",
    "\n",
    "al3 = al1.index(['i', 'o'])\n",
    "print(al3)"
   ]
  },
  {
   "cell_type": "code",
   "execution_count": null,
   "metadata": {
    "collapsed": true
   },
   "outputs": [],
   "source": [
    "al1 = ['a', 'l', 'z', 'i', 'o']\n",
    "al2 = al1.index('z')\n",
    "print(al2)"
   ]
  },
  {
   "cell_type": "code",
   "execution_count": null,
   "metadata": {
    "collapsed": true
   },
   "outputs": [],
   "source": [
    "al1 = [{'a'}, ['l', 'z', 'i', 'o']]\n",
    "al2 = (3, 4)\n",
    "\n",
    "al1.insert(0, al2)\n",
    "print(al1)"
   ]
  },
  {
   "cell_type": "code",
   "execution_count": null,
   "metadata": {
    "collapsed": true
   },
   "outputs": [],
   "source": [
    "al1 = ['a', 'l', 'z', 'i', 'o']\n",
    "al1.insert(1, 758)\n",
    "print(al1)"
   ]
  },
  {
   "cell_type": "code",
   "execution_count": null,
   "metadata": {
    "collapsed": true
   },
   "outputs": [],
   "source": [
    "al1 = ['A', 'L']\n",
    "al2 = ('Z', 'I', 'O')\n",
    "al3 = {'alzio.co.kr', 111}\n",
    "\n",
    "al1.extend(al2)\n",
    "print(al1)\n",
    "\n",
    "al1.extend(al3)\n",
    "print(al1)"
   ]
  },
  {
   "cell_type": "code",
   "execution_count": null,
   "metadata": {
    "collapsed": true
   },
   "outputs": [],
   "source": [
    "al1 = ['alzio', 'it']\n",
    "a3 = ['SINCE', 'ALZIO.CO.KR', '알지오']\n",
    "\n",
    "al1.append(a3)\n",
    "print(al1)"
   ]
  },
  {
   "cell_type": "code",
   "execution_count": null,
   "metadata": {
    "collapsed": true
   },
   "outputs": [],
   "source": [
    "al1 = ['alzio', 'it']\n",
    "al1.append('SINCE 2003!!')\n",
    "print(al1)"
   ]
  },
  {
   "cell_type": "code",
   "execution_count": null,
   "metadata": {
    "collapsed": true
   },
   "outputs": [],
   "source": [
    "al1 = {'1번': 150, '2번': 700, '3번': 0, '4번': 200}\n",
    "al2 = al1.values()\n",
    "\n",
    "del[al1['4번']]\n",
    "print(al2)"
   ]
  },
  {
   "cell_type": "code",
   "execution_count": null,
   "metadata": {
    "collapsed": true
   },
   "outputs": [],
   "source": [
    "al1 = {'1번': 150, '2번': 700, '3번': 0, '4번': 200}\n",
    "al2 = al1.values()\n",
    "print(al2)"
   ]
  },
  {
   "cell_type": "code",
   "execution_count": null,
   "metadata": {
    "collapsed": true
   },
   "outputs": [],
   "source": [
    "al1 = {'1번': 150, '2번': 700, '3번': 0, '4번': 200}\n",
    "print(al1)\n",
    "\n",
    "#al2 = al1.pop('2번')\n",
    "al2 = al1.pop('9번', '5번')\n",
    "print(al2)"
   ]
  },
  {
   "cell_type": "code",
   "execution_count": null,
   "metadata": {
    "collapsed": true
   },
   "outputs": [],
   "source": [
    "al1 = {'1번': 150, '2번': 700, '3번': 0, '4번': 200}\n",
    "al2 = al1.setdefault('IT')\n",
    "\n",
    "#print(al2)\n",
    "\n",
    "al3 = al1.setdefault('4번', 'ALZIO')\n",
    "print(al3)"
   ]
  },
  {
   "cell_type": "code",
   "execution_count": null,
   "metadata": {
    "collapsed": true
   },
   "outputs": [],
   "source": [
    "al1 = {'1번': 150, '2번': 700, '3번': 0, '4번': 200}\n",
    "al2 = al1.popitem()\n",
    "\n",
    "print(al1)\n",
    "print(al2)"
   ]
  },
  {
   "cell_type": "code",
   "execution_count": null,
   "metadata": {
    "collapsed": true
   },
   "outputs": [],
   "source": [
    "a1 = {'1번': '300', '2번': 7}\n",
    "it = a1.keys()\n",
    "print(it)\n",
    "\n",
    "a1.update({'alzio': 90})\n",
    "print(it)"
   ]
  },
  {
   "cell_type": "code",
   "execution_count": null,
   "metadata": {
    "collapsed": true
   },
   "outputs": [],
   "source": [
    "a1 = {'1번': '300', '2번': 7}\n",
    "print(a1.keys())"
   ]
  },
  {
   "cell_type": "code",
   "execution_count": null,
   "metadata": {
    "collapsed": true
   },
   "outputs": [],
   "source": [
    "alzio = {'1번': 150, '2번': 700, '3번': 0}\n",
    "print(alzio.items())"
   ]
  },
  {
   "cell_type": "code",
   "execution_count": null,
   "metadata": {
    "collapsed": true
   },
   "outputs": [],
   "source": [
    "a1 = {'1번': '300', '2번': 7}\n",
    "#print('1번: ', a1.get('1번'))\n",
    "print('2번: ', a1.get('2번'))"
   ]
  },
  {
   "cell_type": "code",
   "execution_count": null,
   "metadata": {
    "collapsed": true
   },
   "outputs": [],
   "source": [
    "a1 = {'a', 'l', 'z', 'i', 'o'}\n",
    "it = ['yes']\n",
    "\n",
    "a2 = dict.fromkeys(a1, it)\n",
    "print(a2)\n",
    "\n",
    "it.append(2)\n",
    "print(a2)\n",
    "\n",
    "it.append(2)\n",
    "print(a2)\n",
    "\n",
    "it.append(2)\n",
    "print(a2)"
   ]
  },
  {
   "cell_type": "code",
   "execution_count": null,
   "metadata": {
    "collapsed": true
   },
   "outputs": [],
   "source": [
    "a1 = {'a', 'l', 'z', 'i', 'o'}\n",
    "it = dict.fromkeys(a1)\n",
    "print(it)"
   ]
  },
  {
   "cell_type": "code",
   "execution_count": null,
   "metadata": {
    "collapsed": true
   },
   "outputs": [],
   "source": [
    "a1 = {7: 'ab', 9: 'cd'}\n",
    "a2 = a1.copy()\n",
    "\n",
    "print(a1)\n",
    "print(a2)"
   ]
  },
  {
   "cell_type": "code",
   "execution_count": null,
   "metadata": {
    "collapsed": true
   },
   "outputs": [],
   "source": [
    "a1 = {7: 'ab', 9: 'cd'}\n",
    "\n",
    "a1.clear()\n",
    "print(a1)"
   ]
  },
  {
   "cell_type": "code",
   "execution_count": null,
   "metadata": {
    "collapsed": true
   },
   "outputs": [],
   "source": [
    "class Alzio:\n",
    "    15\n",
    "\n",
    "it = Alzio()\n",
    "print(type(it))"
   ]
  },
  {
   "cell_type": "code",
   "execution_count": null,
   "metadata": {
    "collapsed": true
   },
   "outputs": [],
   "source": [
    "alzio = {7: 'ab', 9: 'cd'}\n",
    "print(type(alzio))"
   ]
  },
  {
   "cell_type": "code",
   "execution_count": null,
   "metadata": {
    "collapsed": true
   },
   "outputs": [],
   "source": [
    "num = (5, 8, 2)\n",
    "a2 = map(lambda a: a*a, num)\n",
    "print(a2)\n",
    "\n",
    "alal = set(a2)\n",
    "print(alal)"
   ]
  },
  {
   "cell_type": "code",
   "execution_count": null,
   "metadata": {
    "collapsed": true
   },
   "outputs": [],
   "source": [
    "def alzio(x):\n",
    "    return x*x\n",
    "\n",
    "num = (5, 8, 2)\n",
    "a1 = map(alzio, num)\n",
    "print(a1)\n",
    "\n",
    "a2 = set(a1)\n",
    "print(a2)"
   ]
  },
  {
   "cell_type": "code",
   "execution_count": null,
   "metadata": {
    "collapsed": true
   },
   "outputs": [],
   "source": [
    "class Alzio:\n",
    "    7.15\n",
    "it = Alzio()    \n",
    "print(id(it))"
   ]
  },
  {
   "cell_type": "code",
   "execution_count": null,
   "metadata": {
    "collapsed": true
   },
   "outputs": [],
   "source": [
    "alzio = ['a', 'l', 'z', 'i', 'o']\n",
    "def a1(abc):\n",
    "    a2 = ['c', 'o']\n",
    "    \n",
    "    if(abc in a2):\n",
    "        return True\n",
    "    else:\n",
    "        return False\n",
    "\n",
    "a3 = filter(a1, alzio)\n",
    "for a4 in a3:\n",
    "    print(a4)"
   ]
  },
  {
   "cell_type": "code",
   "execution_count": null,
   "metadata": {
    "collapsed": true
   },
   "outputs": [],
   "source": [
    "#print(divmod(20, 2))\n",
    "print(divmod(5.25, 2))"
   ]
  },
  {
   "cell_type": "code",
   "execution_count": null,
   "metadata": {
    "collapsed": true
   },
   "outputs": [],
   "source": [
    "class Alzio:\n",
    "    def __call__(self):\n",
    "        print('alziocokr')\n",
    "\n",
    "print(callable(Alzio))"
   ]
  },
  {
   "cell_type": "code",
   "execution_count": null,
   "metadata": {
    "collapsed": true
   },
   "outputs": [],
   "source": [
    "alzio = 'alzio'\n",
    "print(alzio,bool(alzio))"
   ]
  },
  {
   "cell_type": "code",
   "execution_count": null,
   "metadata": {
    "collapsed": true
   },
   "outputs": [],
   "source": [
    "alzio = []\n",
    "print(alzio,bool(alzio))"
   ]
  },
  {
   "cell_type": "code",
   "execution_count": null,
   "metadata": {
    "collapsed": true
   },
   "outputs": [],
   "source": [
    "a1 = {'a', 'b', 'c', 'd'}\n",
    "a2 = {1, 2, 3, 4}\n",
    "\n",
    "a1.update(a2)\n",
    "print(a1)"
   ]
  },
  {
   "cell_type": "code",
   "execution_count": null,
   "metadata": {
    "collapsed": true
   },
   "outputs": [],
   "source": [
    "import hashlib\n",
    "def alzio(imge):\n",
    "    a1 = hashlib.sha1()\n",
    "    \n",
    "    with open(imge,'rb') as file:\n",
    "        a2 = 0\n",
    "        while a2 != b'':\n",
    "            a2 = file.read(1024)\n",
    "            a1.update(a2)\n",
    "            \n",
    "            return a1.hexdigest()\n",
    "imgfile = alzio(\"albert.jpg\")        \n",
    "print(imgfile)           "
   ]
  },
  {
   "cell_type": "code",
   "execution_count": null,
   "metadata": {
    "collapsed": true
   },
   "outputs": [],
   "source": [
    "a1 = 'alzio alzio alzio alzio alzio alzio'\n",
    "a2 = '-'\n",
    "a2 = a2.casefold()\n",
    "\n",
    "a3 ={}.fromkeys(a1, '===')\n",
    "\n",
    "for a4 in a2:\n",
    "    if a4 in a3:\n",
    "        a3[a4] += 1\n",
    "        \n",
    "print(a3)"
   ]
  },
  {
   "cell_type": "code",
   "execution_count": null,
   "metadata": {
    "collapsed": true
   },
   "outputs": [],
   "source": [
    "alzio = \"alzio it 전문교육 2003\"\n",
    "\n",
    "a1 = alzio.split()\n",
    "a1.sort()\n",
    "\n",
    "for a2 in a1:\n",
    "    print(a2)"
   ]
  },
  {
   "cell_type": "code",
   "execution_count": null,
   "metadata": {
    "collapsed": true
   },
   "outputs": [],
   "source": [
    "it = \"alzio@#.co.kr{}\"\n",
    "alzio = '.''!@#$%^^&*(){}[]'''\n",
    "\n",
    "a1 = \"\"\n",
    "for a2 in it:\n",
    "    if a2 not in alzio:\n",
    "        a1 = a1 + a2\n",
    "        \n",
    "print(a1)   "
   ]
  },
  {
   "cell_type": "code",
   "execution_count": null,
   "metadata": {
    "collapsed": true
   },
   "outputs": [],
   "source": [
    "alzio = \"ALZIO\"\n",
    "print(alzio.casefold())"
   ]
  },
  {
   "cell_type": "code",
   "execution_count": null,
   "metadata": {
    "collapsed": true
   },
   "outputs": [],
   "source": [
    "alzio = range(15, 21)\n",
    "print(list(reversed(alzio)))"
   ]
  },
  {
   "cell_type": "code",
   "execution_count": null,
   "metadata": {
    "collapsed": true
   },
   "outputs": [],
   "source": [
    "alzio = 'alzio'\n",
    "print(list(reversed(alzio)))"
   ]
  },
  {
   "cell_type": "code",
   "execution_count": null,
   "metadata": {
    "collapsed": true
   },
   "outputs": [],
   "source": [
    "alzio = 'abcddcba'\n",
    "alzio = alzio.casefold()\n",
    "\n",
    "it = reversed(alzio)\n",
    "\n",
    "if list(alzio) == list(it):\n",
    "    print(\"회문이야\")\n",
    "    \n",
    "else:\n",
    "    print(\"회문 아니야\")"
   ]
  },
  {
   "cell_type": "code",
   "execution_count": null,
   "metadata": {
    "collapsed": true
   },
   "outputs": [],
   "source": [
    "a1 = [[1,3], [2,4], [5,7]]\n",
    "alzio = [[100,100,100], [100,100,100]]\n",
    "\n",
    "for a2 in range(len(a1)):\n",
    "    for a3 in range(len(a1[0])):\n",
    "        alzio[a3][a2] = a1[a2][a3]\n",
    "        \n",
    "for a4 in alzio:\n",
    "    print(a4)        "
   ]
  },
  {
   "cell_type": "code",
   "execution_count": null,
   "metadata": {
    "collapsed": true
   },
   "outputs": [],
   "source": [
    "a1 = [[1,3,4], [2,7,3], [5,7,2]]\n",
    "a2 = [[7,1,5], [3,1,2], [2,1,8]]\n",
    "\n",
    "alzio = [[a1[a4][a3] + a2[a4][a3]\n",
    "    for a3 in range(len(a1[0]))]\n",
    "        for a4 in range(len(a1))]\n",
    "\n",
    "for a5 in alzio:\n",
    "    print(a5)"
   ]
  },
  {
   "cell_type": "code",
   "execution_count": null,
   "metadata": {
    "collapsed": true
   },
   "outputs": [],
   "source": [
    "a1 = [[1,3,4], [2,7,3], [5,7,2]]\n",
    "a2 = [[7,1,5], [3,1,2], [2,1,8]]\n",
    "\n",
    "alzio = [[5,5,5], [5,5,5], [5,5,5]]\n",
    "\n",
    "for a3 in range(len(a1)):\n",
    "    for a4 in range(len(a1[0])):\n",
    "        alzio[a3][a4] = a1[a3][a4] * a2[a3][a4]\n",
    "\n",
    "for a5 in alzio:        \n",
    "    print(a5)"
   ]
  },
  {
   "cell_type": "code",
   "execution_count": null,
   "metadata": {
    "collapsed": true
   },
   "outputs": [],
   "source": [
    "import calendar\n",
    "#y = 2120\n",
    "#m = 2\n",
    "\n",
    "y = int(input(\"년도: \"))\n",
    "m = int(input(\"월: \"))\n",
    "\n",
    "print(calendar.month(y, m))\n"
   ]
  },
  {
   "cell_type": "code",
   "execution_count": null,
   "metadata": {
    "collapsed": true
   },
   "outputs": [],
   "source": [
    "import itertools\n",
    "def count(star=0, call=2):\n",
    "    alzio = star\n",
    "    while True:\n",
    "        yield alzio\n",
    "        alzio += call\n",
    "\n",
    "for i in count(5, 1.5):\n",
    "    if i < 150:\n",
    "        print(i)\n",
    "            \n",
    "    else:\n",
    "        break"
   ]
  },
  {
   "cell_type": "code",
   "execution_count": null,
   "metadata": {
    "collapsed": true
   },
   "outputs": [],
   "source": [
    "import itertools, random\n",
    "alzio = list(itertools.product(range(1,50),['하나', '둘', '셋', '넷', '다섯', '여섯']))\n",
    "\n",
    "random.shuffle(alzio)\n",
    "for it in range(7):\n",
    "    print(alzio[it][0], \" / \", alzio[it][1])"
   ]
  },
  {
   "cell_type": "code",
   "execution_count": null,
   "metadata": {
    "collapsed": true
   },
   "outputs": [],
   "source": [
    "print(\"1. 더하기, 2. 빼기, 3. 곱하기, 4. 나누기\")\n",
    "ok = input(\"원하는 게산 선택(1, 2, 3, 4): \")\n",
    "\n",
    "star = int(input(\"시작번호 : \"))\n",
    "enda = int(input(\"종료번호 : \"))\n",
    "\n",
    "def one(a, b):\n",
    "    return a + b\n",
    "\n",
    "def two(a, b):\n",
    "    return a - b\n",
    "\n",
    "def teee(a, b):\n",
    "    return a * b\n",
    "\n",
    "def fora(a, b):\n",
    "    return a / b\n",
    "\n",
    "if ok == '1':\n",
    "    print(star,\" + \",enda,\" = \", one(star,enda))\n",
    "    \n",
    "elif ok == '2':\n",
    "    print(star,\" - \",enda,\" = \", two(star,enda))\n",
    "\n",
    "elif ok == '3':\n",
    "    print(star,\" * \",enda,\" = \", teee(star,enda))\n",
    "\n",
    "elif ok == '4':\n",
    "    print(star,\" / \",enda,\" = \", fora(star,enda))    \n",
    "    \n",
    "else:\n",
    "    print(\"1~4까지만 해!!\")    "
   ]
  },
  {
   "cell_type": "code",
   "execution_count": null,
   "metadata": {
    "collapsed": true
   },
   "outputs": [],
   "source": [
    "def alzio(y):\n",
    "    for it in range(1, y + 1):\n",
    "        if y % it == 0:\n",
    "            print(it)\n",
    "            \n",
    "one = 500\n",
    "alzio(one)            "
   ]
  },
  {
   "cell_type": "code",
   "execution_count": null,
   "metadata": {
    "collapsed": true
   },
   "outputs": [],
   "source": [
    "def alzio(a, b):\n",
    "    if a > b:\n",
    "        it = a\n",
    "    else:\n",
    "        it = b\n",
    "        \n",
    "    while(True):\n",
    "        if((it % a == 0) and(it % b == 0)):\n",
    "            alzio = it\n",
    "            break\n",
    "        it += 1  \n",
    "        \n",
    "    return alzio\n",
    "\n",
    "one = 15\n",
    "two = 16\n",
    "\n",
    "print(alzio(one, two))"
   ]
  },
  {
   "cell_type": "code",
   "execution_count": null,
   "metadata": {
    "collapsed": true
   },
   "outputs": [],
   "source": [
    "def alzio(a, b):\n",
    "    if a > b:\n",
    "        it = b\n",
    "    else:\n",
    "        it = a\n",
    "        \n",
    "    for a1 in range(1, it+1):        \n",
    "        if((a % a1 == 0) and(b % a1 == 0)):\n",
    "            irfg = a1\n",
    "        \n",
    "    return irfg\n",
    "\n",
    "one = 12 \n",
    "two = 24\n",
    "\n",
    "print(one,two,alzio(one, two))"
   ]
  },
  {
   "cell_type": "code",
   "execution_count": null,
   "metadata": {
    "collapsed": true
   },
   "outputs": [],
   "source": [
    "alzio = \"A\"\n",
    "print(alzio,ord(alzio))"
   ]
  },
  {
   "cell_type": "code",
   "execution_count": null,
   "metadata": {
    "collapsed": true
   },
   "outputs": [],
   "source": [
    "alzio = 757\n",
    "print(hex(alzio))\n",
    "print(bin(alzio))\n",
    "print(oct(alzio))"
   ]
  },
  {
   "cell_type": "code",
   "execution_count": null,
   "metadata": {
    "collapsed": true
   },
   "outputs": [],
   "source": [
    "alzio = [10, 45, 542, 73, 7, 52, 55, 61, 71]\n",
    "it = list(filter(lambda a: (a % 5 == 0), alzio))\n",
    "print(it)"
   ]
  },
  {
   "cell_type": "code",
   "execution_count": null,
   "metadata": {
    "collapsed": true
   },
   "outputs": [],
   "source": [
    "alzio = lambda y: y * 7\n",
    "print(alzio(5))"
   ]
  },
  {
   "cell_type": "code",
   "execution_count": null,
   "metadata": {
    "collapsed": true
   },
   "outputs": [],
   "source": [
    "alzio = 15\n",
    "res = list(map(lambda it: 5 ** it, range(alzio)))\n",
    "\n",
    "for abcd in range(alzio):\n",
    "    print(abcd,\" / \",res[abcd])"
   ]
  },
  {
   "cell_type": "code",
   "execution_count": null,
   "metadata": {
    "collapsed": true
   },
   "outputs": [],
   "source": [
    "alzio = 7\n",
    "if alzio < 0:\n",
    "    print(\"NO\")\n",
    "    \n",
    "else:\n",
    "    s = 0\n",
    "     \n",
    "while(alzio > 0):    \n",
    "    s += alzio\n",
    "    alzio -= 1\n",
    "    \n",
    "    print(\"YES\",s)"
   ]
  },
  {
   "cell_type": "code",
   "execution_count": null,
   "metadata": {
    "collapsed": true
   },
   "outputs": [],
   "source": [
    "a = 5\n",
    "for alzio in range(10):\n",
    "    print(alzio,'X',a,'=',a*alzio)"
   ]
  },
  {
   "cell_type": "code",
   "execution_count": null,
   "metadata": {
    "collapsed": true
   },
   "outputs": [],
   "source": [
    "a = 5\n",
    "for alzio in (2, 9):\n",
    "    print(alzio,'X',a,'=',a*alzio)"
   ]
  },
  {
   "cell_type": "code",
   "execution_count": null,
   "metadata": {
    "collapsed": true
   },
   "outputs": [],
   "source": [
    "#alzio = 5\n",
    "alzio = int(input(\"입력해 :\"))\n",
    "it = 1\n",
    "if alzio < 0:\n",
    "    print(\"NO\")\n",
    "\n",
    "elif alzio == 0:    \n",
    "    print(\"NONONO\")\n",
    "    \n",
    "else:    \n",
    "  for adda in range(1,alzio + 1):\n",
    "    it = it*adda\n",
    "    \n",
    "print(\"OK!\",alzio,\"계승\",it)    "
   ]
  },
  {
   "cell_type": "code",
   "execution_count": null,
   "metadata": {
    "collapsed": true
   },
   "outputs": [],
   "source": [
    "texx = 13\n",
    "if texx > 1:\n",
    "    for it in range(3, texx):\n",
    "        if (texx % it) == 0:\n",
    "            print(texx,\"은 소숫점 아니야\")\n",
    "            print(it,\"번\",texx//it,\"곱하면\",texx)\n",
    "            break\n",
    "            \n",
    "        else:\n",
    "            print(texx,\"계산 않됨!\")\n",
    "            \n",
    "else:\n",
    "    print(texx,\" 이 값은 아니야\")"
   ]
  },
  {
   "cell_type": "code",
   "execution_count": null,
   "metadata": {
    "collapsed": true
   },
   "outputs": [],
   "source": [
    "a = 500\n",
    "b = 750\n",
    "c = 3000\n",
    "\n",
    "if (a >= b) and (a >=c):\n",
    "    anddd = a\n",
    "    \n",
    "elif (b >= a) and (b >= c):\n",
    "    anddd = b    \n",
    "    \n",
    "else:\n",
    "    anddd = c    \n",
    "    \n",
    "print(a,b,c,\"BIG : \",anddd,\"!!\") "
   ]
  },
  {
   "cell_type": "code",
   "execution_count": null,
   "metadata": {
    "collapsed": true
   },
   "outputs": [],
   "source": [
    "texx = int(input(\"넘버 : \"))\n",
    "if (texx % 2) == 0:\n",
    "    print(\"{0} 짝수 \".format(texx))\n",
    "    \n",
    "else:\n",
    "    print(\"{0} 홀수 \".format(texx))   "
   ]
  },
  {
   "cell_type": "code",
   "execution_count": null,
   "metadata": {
    "collapsed": true
   },
   "outputs": [],
   "source": [
    "texx = float(input(\"암호는? \"))\n",
    "if texx > 7:\n",
    "    print(\"다시시작해!\")\n",
    "    \n",
    "elif texx == 7:\n",
    "    print(\"ok\")\n",
    "    \n",
    "else:    \n",
    "    print(\"no\")"
   ]
  },
  {
   "cell_type": "code",
   "execution_count": null,
   "metadata": {
    "collapsed": true
   },
   "outputs": [],
   "source": [
    "import random\n",
    "print(random.randint(0,200))"
   ]
  },
  {
   "cell_type": "code",
   "execution_count": null,
   "metadata": {
    "collapsed": true
   },
   "outputs": [],
   "source": [
    "a = 250\n",
    "b = 700\n",
    "\n",
    "it = a\n",
    "a = b\n",
    "b = it\n",
    "\n",
    "print('a -> ' + format(a))\n",
    "print('b -> ' + format(b))"
   ]
  },
  {
   "cell_type": "code",
   "execution_count": null,
   "metadata": {
    "collapsed": true
   },
   "outputs": [],
   "source": [
    "a = True\n",
    "b = False\n",
    "print(not b)"
   ]
  },
  {
   "cell_type": "code",
   "execution_count": null,
   "metadata": {
    "collapsed": true
   },
   "outputs": [],
   "source": [
    "a1 = 5\n",
    "b1 = 2\n",
    "\n",
    "print(a1//b1)\n",
    "%\n",
    "/\n",
    "**"
   ]
  },
  {
   "cell_type": "code",
   "execution_count": null,
   "metadata": {
    "collapsed": true
   },
   "outputs": [],
   "source": [
    "a1 = 3\n",
    "b1 = 5\n",
    "c1 = 6\n",
    "\n",
    "alzio = (a1 + b1 + c1) / 2\n",
    "oyes = (alzio*(alzio-a1)*(alzio-b1)*(alzio-c1)) ** 0.95\n",
    "print('%1.5f' %oyes)\n",
    "\n",
    "#a % b (a / b)\n",
    "#a // b\n",
    "#**"
   ]
  },
  {
   "cell_type": "code",
   "execution_count": null,
   "metadata": {
    "collapsed": true
   },
   "outputs": [],
   "source": [
    "import cmath\n",
    "a1 = 7+9j\n",
    "\n",
    "a1_sqrt = cmath.sqrt(a1)\n",
    "print('{0} -> {1:4.5f}+{2:1.5f}j'.format(a1 ,a1_sqrt.real, a1_sqrt.imag))"
   ]
  },
  {
   "cell_type": "code",
   "execution_count": null,
   "metadata": {
    "collapsed": true
   },
   "outputs": [],
   "source": [
    "a1 = 15\n",
    "a2 = a1 ** 15\n",
    "print(a1, a2)"
   ]
  },
  {
   "cell_type": "code",
   "execution_count": null,
   "metadata": {
    "collapsed": true
   },
   "outputs": [],
   "source": [
    "alzio = __import__('math', globals(), locals(), [], 0)\n",
    "print(alzio.fabs(-9.3))"
   ]
  },
  {
   "cell_type": "code",
   "execution_count": null,
   "metadata": {
    "collapsed": true
   },
   "outputs": [],
   "source": [
    "alzio = [0, 1, 2]\n",
    "it = ['one', 'two', 'three']\n",
    "\n",
    "rell = zip(alzio, it)\n",
    "rellset = set(rell)\n",
    "\n",
    "print(rellset)"
   ]
  },
  {
   "cell_type": "code",
   "execution_count": null,
   "metadata": {
    "collapsed": true
   },
   "outputs": [],
   "source": [
    "vars(list)"
   ]
  },
  {
   "cell_type": "code",
   "execution_count": null,
   "metadata": {
    "collapsed": true
   },
   "outputs": [],
   "source": [
    "class Alzio:\n",
    "    def __init__(it, one = 38, two = 75):\n",
    "        it.one = one\n",
    "        it.two = two\n",
    "        \n",
    "ahj = Alzio()       \n",
    "print(vars(ahj))"
   ]
  },
  {
   "cell_type": "code",
   "execution_count": null,
   "metadata": {
    "collapsed": true
   },
   "outputs": [],
   "source": [
    "class Alzio:\n",
    "    a = 0\n",
    "\n",
    "it = Alzio()\n",
    "print(type(it))"
   ]
  },
  {
   "cell_type": "code",
   "execution_count": null,
   "metadata": {
    "collapsed": true
   },
   "outputs": [],
   "source": [
    "it = {0: 'a', 1: 'b'}\n",
    "print(type(it))"
   ]
  },
  {
   "cell_type": "code",
   "execution_count": null,
   "metadata": {
    "collapsed": true
   },
   "outputs": [],
   "source": [
    "#it = tuple('alzio')\n",
    "#print(it)\n",
    "\n",
    "it = tuple({0: 'al', 1: 'zio', 3:'co'})\n",
    "print(it)"
   ]
  },
  {
   "cell_type": "code",
   "execution_count": null,
   "metadata": {
    "collapsed": true
   },
   "outputs": [],
   "source": [
    "class alzio(object):\n",
    "    def __init__(it, abcd):\n",
    "        print(abcd)\n",
    "        \n",
    "class lexs(alzio):\n",
    "    def __init__(it):\n",
    "        super().__init__('애플')\n",
    "        print('또다른 내용')\n",
    "        \n",
    "lexs()   "
   ]
  },
  {
   "cell_type": "code",
   "execution_count": null,
   "metadata": {
    "collapsed": true
   },
   "outputs": [],
   "source": [
    "alzio = [0, 5, 15, 7, 5, 15]\n",
    "it = sum(alzio, 15)\n",
    "print(it)"
   ]
  },
  {
   "cell_type": "code",
   "execution_count": null,
   "metadata": {
    "collapsed": true
   },
   "outputs": [],
   "source": [
    "it = bytes('بلقائك  alzio', encoding='utf-8')\n",
    "print(str(it, encoding='ascii', errors='ignore'))"
   ]
  },
  {
   "cell_type": "code",
   "execution_count": null,
   "metadata": {
    "collapsed": true
   },
   "outputs": [],
   "source": [
    "it = 'alzio'\n",
    "#obj = slice(3)\n",
    "obj = slice(0, 2)\n",
    "print(it[obj])"
   ]
  },
  {
   "cell_type": "code",
   "execution_count": null,
   "metadata": {
    "collapsed": true
   },
   "outputs": [],
   "source": [
    "print(slice(0, 3, 2))"
   ]
  },
  {
   "cell_type": "code",
   "execution_count": null,
   "metadata": {
    "collapsed": true
   },
   "outputs": [],
   "source": [
    "class Alzio:\n",
    "    na = '2003'\n",
    "\n",
    "it = Alzio()\n",
    "setattr(it, 'na', '2003 alzio.co.kr')\n",
    "print(it.na)"
   ]
  },
  {
   "cell_type": "code",
   "execution_count": null,
   "metadata": {
    "collapsed": true
   },
   "outputs": [],
   "source": [
    "#print(set('alzio'))\n",
    "#print(set(('a', 'l', 'z', 'i', 'o')))\n",
    "print(set(range(8)))"
   ]
  },
  {
   "cell_type": "code",
   "execution_count": null,
   "metadata": {
    "collapsed": true
   },
   "outputs": [],
   "source": [
    "print(round(5.6167616, 3))"
   ]
  },
  {
   "cell_type": "code",
   "execution_count": null,
   "metadata": {
    "collapsed": true
   },
   "outputs": [],
   "source": [
    "it = range(7, 15)\n",
    "print(list(reversed(it)))"
   ]
  },
  {
   "cell_type": "code",
   "execution_count": null,
   "metadata": {
    "collapsed": true
   },
   "outputs": [],
   "source": [
    "it = ('a', 'l', 'z')\n",
    "print(list(reversed(it)))"
   ]
  },
  {
   "cell_type": "code",
   "execution_count": null,
   "metadata": {
    "collapsed": true
   },
   "outputs": [],
   "source": [
    "it = 'alzio.co.kr'\n",
    "print(list(reversed(it)))"
   ]
  },
  {
   "cell_type": "code",
   "execution_count": null,
   "metadata": {
    "collapsed": true
   },
   "outputs": [],
   "source": [
    "@property()\n",
    "property(fget=None, fset=None, fdel=None, doc=None)"
   ]
  },
  {
   "cell_type": "code",
   "execution_count": null,
   "metadata": {
    "collapsed": true
   },
   "outputs": [],
   "source": [
    "pow(5, 3)"
   ]
  },
  {
   "cell_type": "code",
   "execution_count": null,
   "metadata": {
    "collapsed": true
   },
   "outputs": [],
   "source": [
    "#print(oct(5))\n",
    "print(oct(0b101))"
   ]
  },
  {
   "cell_type": "code",
   "execution_count": null,
   "metadata": {
    "collapsed": true
   },
   "outputs": [],
   "source": [
    "alzio = iter({'a': 0, 'b': 1, 'c': 2,  'd': 3})\n",
    "print(next(alzio))\n",
    "print(next(alzio))\n",
    "print(next(alzio))\n",
    "print(next(alzio))"
   ]
  },
  {
   "cell_type": "code",
   "execution_count": null,
   "metadata": {
    "collapsed": true
   },
   "outputs": [],
   "source": [
    "alzio = bytearray('efwgspgg', 'utf-8')\n",
    "it = memoryview(alzio)\n",
    "#print(it[2])\n",
    "print(bytes(it[0:5]))"
   ]
  },
  {
   "cell_type": "code",
   "execution_count": null,
   "metadata": {
    "collapsed": true
   },
   "outputs": [],
   "source": [
    "#max([5,7,9])\n",
    "#max(\"alzio\")\n",
    "min(\"alzio\")"
   ]
  },
  {
   "cell_type": "code",
   "execution_count": null,
   "metadata": {
    "collapsed": true
   },
   "outputs": [],
   "source": [
    "list(map(lambda al: al * 7, range(7)))"
   ]
  },
  {
   "cell_type": "code",
   "execution_count": null,
   "metadata": {
    "collapsed": true
   },
   "outputs": [],
   "source": [
    "def alzio(it): return it * 6\n",
    "list(map(alzio, [0,1,2,3,4,5]))"
   ]
  },
  {
   "cell_type": "code",
   "execution_count": null,
   "metadata": {
    "collapsed": true
   },
   "outputs": [],
   "source": [
    "def alzio():\n",
    "    a = 5\n",
    "    print(locals())\n",
    "    \n",
    "    return a\n",
    "\n",
    "alzio()"
   ]
  },
  {
   "cell_type": "code",
   "execution_count": null,
   "metadata": {
    "collapsed": true
   },
   "outputs": [],
   "source": [
    "abc = [0,1,2,3]\n",
    "it = iter(abc)\n",
    "it"
   ]
  },
  {
   "cell_type": "code",
   "execution_count": null,
   "metadata": {
    "collapsed": true
   },
   "outputs": [],
   "source": [
    "alzio = [\"a\", \"b\"]\n",
    "ol = iter(alzio)"
   ]
  },
  {
   "cell_type": "code",
   "execution_count": null,
   "metadata": {
    "collapsed": true
   },
   "outputs": [],
   "source": [
    "class Alzio(object):\n",
    "    def __init__(abc, oq):\n",
    "        abc.qp = op\n",
    "        \n",
    "class It(Alzio):\n",
    "    def __init__(abc, oq, kora):\n",
    "        abc.qp = op\n",
    "        abc.kora = kora\n",
    "        \n",
    "#issubclass(It, Alzio)     \n",
    "#issubclass(Alzio, object)\n",
    "issubclass(Alzio, It)"
   ]
  },
  {
   "cell_type": "code",
   "execution_count": null,
   "metadata": {
    "collapsed": true
   },
   "outputs": [],
   "source": [
    "#isinstance(26, int)\n",
    "#isinstance(26, float)\n",
    "#isinstance('26', str)\n",
    "\n",
    "help()"
   ]
  },
  {
   "cell_type": "code",
   "execution_count": null,
   "metadata": {
    "collapsed": true
   },
   "outputs": [],
   "source": [
    "#hash(285.4766)\n",
    "#hash('alzio')\n",
    "\n",
    "#it = ('alzio')\n",
    "#print(hash(it))\n",
    "\n",
    "it = ('a', 'l', 'z', 'i', 'o')\n",
    "print(hash(it))"
   ]
  },
  {
   "cell_type": "code",
   "execution_count": null,
   "metadata": {
    "collapsed": true
   },
   "outputs": [],
   "source": [
    "import sys\n",
    "    if hasattr(sys, 'advf')"
   ]
  },
  {
   "cell_type": "code",
   "execution_count": null,
   "metadata": {
    "collapsed": true
   },
   "outputs": [],
   "source": [
    "a = alzio\n",
    "hasattr(a, 'b')"
   ]
  },
  {
   "cell_type": "code",
   "execution_count": null,
   "metadata": {
    "collapsed": true
   },
   "outputs": [],
   "source": [
    "globals()"
   ]
  },
  {
   "cell_type": "code",
   "execution_count": null,
   "metadata": {
    "collapsed": true
   },
   "outputs": [],
   "source": [
    "class Alzio:\n",
    "    it = 2003\n",
    "    \n",
    "#getattr(Alzio, 'it')\n",
    "#getattr(Alzio, 'abcd', 'ok')"
   ]
  },
  {
   "cell_type": "code",
   "execution_count": null,
   "metadata": {
    "collapsed": true
   },
   "outputs": [],
   "source": [
    "alzio = frozenset((51, 500, 7, 9))\n",
    "1 in alzio"
   ]
  },
  {
   "cell_type": "code",
   "execution_count": null,
   "metadata": {
    "collapsed": true
   },
   "outputs": [],
   "source": [
    "alzio = frozenset((51, 500))\n",
    "alzio = frozenset([51, 500])\n",
    "alzio = frozenset(range(150))"
   ]
  },
  {
   "cell_type": "code",
   "execution_count": null,
   "metadata": {
    "collapsed": true
   },
   "outputs": [],
   "source": [
    "\"{0}{1:15}{2}\".format(\"abc\", \"def\", \"ewgw\")\n",
    "\"{0} {0} {0}\".format(\"abc\", \"def\", \"ewgw\")\n",
    "\n",
    "one = 7\n",
    "print(\"{0}\".format(one))"
   ]
  },
  {
   "cell_type": "code",
   "execution_count": null,
   "metadata": {
    "collapsed": true
   },
   "outputs": [],
   "source": [
    "ad = \"567.58\"\n",
    "ress = float(ad) -25.2\n",
    "print(ress)\n",
    "\n",
    "ad = \"567.55\"\n",
    "ress = int(ad) -25\n",
    "print(ress)"
   ]
  },
  {
   "cell_type": "code",
   "execution_count": null,
   "metadata": {
    "collapsed": true
   },
   "outputs": [],
   "source": [
    "def alzio(abcd):\n",
    "    return abcd > 6\n",
    "\n",
    "print(list(filter(alzio, [15, 7, 5, -1, 9])))"
   ]
  },
  {
   "cell_type": "code",
   "execution_count": null,
   "metadata": {
    "collapsed": true
   },
   "outputs": [],
   "source": [
    "for alzio, it in enumerate(['a1', 'a2', 'a3', 'a4', 'a5']):\n",
    "    print(alzio, it)"
   ]
  },
  {
   "cell_type": "code",
   "execution_count": null,
   "metadata": {
    "collapsed": true
   },
   "outputs": [],
   "source": [
    "divmod(8.52, 3.52)"
   ]
  },
  {
   "cell_type": "code",
   "execution_count": null,
   "metadata": {
    "collapsed": true
   },
   "outputs": [],
   "source": [
    "class Alzio:\n",
    "    def __init__ (aoos, hjone = 0):\n",
    "        aoos.hjone = hjone\n",
    "        \n",
    "jui = Alzio(71)\n",
    "jui.hjone\n",
    "\n",
    "delattr(jui, 'hjone')\n",
    "jui.hjone"
   ]
  },
  {
   "cell_type": "code",
   "execution_count": null,
   "metadata": {
    "collapsed": true
   },
   "outputs": [],
   "source": [
    "alzio = compile('7*8', '문자열', 'single')\n",
    "#eval(alzio)\n",
    "#exec(alzio)\n",
    "\n",
    "#a = 7\n",
    "#b = 9\n",
    "#print(a, b)\n",
    "print(0b10)\n",
    "print(0o10)\n",
    "print(0x10)\n",
    "\n",
    "#bin(10101010)\n",
    "hex(10101010)\n",
    "\n",
    "#15 + 20j\n",
    "#15j\n",
    "alzio = complex(200, 300)\n",
    "#type(alzio)\n",
    "#alzio\n",
    "#alzio.imag\n",
    "#alzio.real\n",
    "alzio.conjugate()"
   ]
  },
  {
   "cell_type": "markdown",
   "metadata": {
    "collapsed": true
   },
   "source": [
    "compile, eval, exec, int, long, float, complex\n",
    "--- ast - 추상된 문법(트리) ---"
   ]
  }
 ],
 "metadata": {
  "kernelspec": {
   "display_name": "Python 3",
   "language": "python",
   "name": "python3"
  },
  "language_info": {
   "codemirror_mode": {
    "name": "ipython",
    "version": 3
   },
   "file_extension": ".py",
   "mimetype": "text/x-python",
   "name": "python",
   "nbconvert_exporter": "python",
   "pygments_lexer": "ipython3",
   "version": "3.6.1"
  }
 },
 "nbformat": 4,
 "nbformat_minor": 2
}
