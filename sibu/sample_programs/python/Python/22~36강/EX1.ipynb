{
 "cells": [
  {
   "cell_type": "markdown",
   "metadata": {},
   "source": [
    "자동화, \n",
    "설정 및 종료 공유, \n",
    "컬렉션, \n",
    "프레임워크 테스트."
   ]
  },
  {
   "cell_type": "code",
   "execution_count": null,
   "metadata": {
    "collapsed": true
   },
   "outputs": [],
   "source": [
    "class Alzio(object):\n",
    "    @staticmethod\n",
    "    def allab(lecedu):\n",
    "        Alzio.lecedu = lecedu\n",
    "\n",
    "Alzio.allab('alzio.co.kr')\n",
    "print (Alzio.lecedu)"
   ]
  },
  {
   "cell_type": "code",
   "execution_count": null,
   "metadata": {
    "collapsed": true
   },
   "outputs": [],
   "source": [
    "class Alzio(object):\n",
    "    @classmethod\n",
    "    def allab(cls, lecedu):\n",
    "        cls.lecedu = lecedu\n",
    "        \n",
    "Alzio.allab('alzio.co.kr')\n",
    "print (Alzio.lecedu)"
   ]
  },
  {
   "cell_type": "code",
   "execution_count": null,
   "metadata": {
    "collapsed": true
   },
   "outputs": [],
   "source": [
    "#chr(75)\n",
    "ord('A')"
   ]
  },
  {
   "cell_type": "code",
   "execution_count": null,
   "metadata": {
    "collapsed": true
   },
   "outputs": [],
   "source": [
    "#abs(5)\n",
    "#abs(-5)\n",
    "\n",
    "#all([5, 8, 9])\n",
    "#all([0])\n",
    "#all([5, 8, 9, 0, 7])\n",
    "#all([alzio])\n",
    "#all([False])\n",
    "#all({50:True, 70:False})\n",
    "#all(\"alzio\")\n",
    "\n",
    "#any([5, 8, 9, 0, 7])\n",
    "\n",
    "#bin(12)\n",
    "\n",
    "#hex(10)\n",
    "\n",
    "#oct(10)\n",
    "\n",
    "#bool\n",
    "\n",
    "#5 > 8\n",
    "#5 < 8\n",
    "\n",
    "#c = bytearray([27, 88, 190, 75, 82])\n",
    "#len(c)\n",
    "\n",
    "#bytearray(range(15))\n",
    "#bytearray('alzio')\n",
    "\n",
    "#abc = b'69'\n",
    "#abc\n",
    "\n",
    "-------------------\n",
    "Mutable\n",
    "list\n",
    "dict\n",
    "set\n",
    "byte array\n",
    "-------------------\n",
    "Immutable\n",
    "numbers\n",
    "string\n",
    "tuple\n",
    "frozenset\n",
    "bytes"
   ]
  },
  {
   "cell_type": "code",
   "execution_count": null,
   "metadata": {
    "collapsed": true
   },
   "outputs": [],
   "source": [
    "koko = 0\n",
    "if abs(koko)<-5:\n",
    "    print(\"응맞아~\")\n",
    "\n",
    "else:\n",
    "    print(\"no\")"
   ]
  },
  {
   "cell_type": "code",
   "execution_count": null,
   "metadata": {
    "collapsed": true
   },
   "outputs": [],
   "source": [
    "from start_test import alzio\n",
    "\n",
    "two = \"당신의 나이는?\"\n",
    "aasa = alzio(two)\n",
    "aasa.onetwo()\n",
    "\n",
    "print(\"150 멈춤\")\n",
    "while True:\n",
    "    loa = input(\"--> : \")\n",
    "    if loa == '150':\n",
    "        break\n",
    "aasa.total(loa)\n",
    "\n",
    "print(\"\\n당신이 지금까지 입력한 값\")\n",
    "aasa.starres()"
   ]
  },
  {
   "cell_type": "code",
   "execution_count": null,
   "metadata": {
    "collapsed": true
   },
   "outputs": [],
   "source": [
    "import unittest\n",
    "\n",
    "def plus(one, two):\n",
    "    return one + two\n",
    "\n",
    "class Time(unittest.TestCase):\n",
    "    def testalzio(self):\n",
    "        self.assertEquals(plus(15, 2), 17)\n",
    "        \n",
    "if __name__ == '__main__':        \n",
    "    unittest.main()"
   ]
  },
  {
   "cell_type": "code",
   "execution_count": null,
   "metadata": {
    "collapsed": true
   },
   "outputs": [],
   "source": [
    "from namelist import namestart\n",
    "\n",
    "while True:\n",
    "    one = input(\"ONE: \")\n",
    "    if one == 'mm':\n",
    "        break\n",
    "    \n",
    "    two = input(\"TWO: \")\n",
    "    if two == 'mm':\n",
    "        break\n",
    "        \n",
    "gooda = namestart(one, two)\n",
    "print(gooda)       "
   ]
  },
  {
   "cell_type": "code",
   "execution_count": null,
   "metadata": {
    "collapsed": true
   },
   "outputs": [],
   "source": [
    "import json\n",
    "from collections import OrderedDict\n",
    "\n",
    "lis = OrderedDict()\n",
    "\n",
    "lis[\"123\"] = \"alzio\"\n",
    "lis[\"abc\"] = 2003\n",
    "lis[\"lod\"] = {'a':'한글', 'b':'xprtmxm', 'acv':'IT전문교육'}\n",
    "\n",
    "print(json.dumps(lis, indent=\"\\t\", ensure_ascii=False))\n",
    "\n",
    "with open('jsonfile.json', 'w') as alziojs:\n",
    "    json.dump(lis, alziojs, indent=\"\\t\", ensure_ascii=False)"
   ]
  },
  {
   "cell_type": "code",
   "execution_count": null,
   "metadata": {
    "collapsed": true
   },
   "outputs": [],
   "source": [
    "import json\n",
    "infojsoo='14.json'\n",
    "infojson = [60575, '75z4v6', 'cs8f7f', 'warger44']\n",
    "with open(infojsoo, 'w') as obj:\n",
    " json.dump(infojson, obj)"
   ]
  },
  {
   "cell_type": "code",
   "execution_count": null,
   "metadata": {
    "collapsed": true
   },
   "outputs": [],
   "source": [
    "infotxt = 'info-menu.txt'\n",
    "\n",
    "with open(infotxt) as abj:\n",
    "    alzio = abj.read()\n",
    "    \n",
    "it = alzio.split()\n",
    "okk = len(it)\n",
    "\n",
    "print(infotxt + \" -> \" + str(okk))"
   ]
  },
  {
   "cell_type": "code",
   "execution_count": null,
   "metadata": {
    "collapsed": true
   },
   "outputs": [],
   "source": [
    "infotxt = 'info-menu.txt'\n",
    "\n",
    "with open(infotxt) as abj:\n",
    "    alzio = abj.read()\n",
    "    \n",
    "it = alzio.split()\n",
    "okk = len(it)\n",
    "\n",
    "print(okk)"
   ]
  },
  {
   "cell_type": "code",
   "execution_count": null,
   "metadata": {
    "collapsed": true
   },
   "outputs": [],
   "source": [
    "while True:\n",
    "    irt = input('정답 : ')\n",
    "    if irt == 'it':\n",
    "        break\n",
    "    kok = input('정답2 : ')\n",
    "    \n",
    "try:\n",
    "    alzio = int(irt) / int(kok)\n",
    "except ValueError:\n",
    "    print(\"yes\")\n",
    "else:\n",
    "    print(alzio)"
   ]
  },
  {
   "cell_type": "code",
   "execution_count": null,
   "metadata": {
    "collapsed": true
   },
   "outputs": [],
   "source": [
    "try:\n",
    "    print(950/0)\n",
    "except ZeroDivisionError:\n",
    "    print('잘못된 연산!!')\n"
   ]
  },
  {
   "cell_type": "code",
   "execution_count": 42,
   "metadata": {
    "collapsed": true
   },
   "outputs": [],
   "source": [
    "infotxt = 'info-13.txt'\n",
    "\n",
    "with open(infotxt, 'w') as abj:\n",
    "    abj.write('ALZIO -> \\n')\n",
    "    abj.write('2003 -> \\n')\n",
    "    abj.write('IT')\n",
    "    abj.write('\\n')"
   ]
  },
  {
   "cell_type": "code",
   "execution_count": null,
   "metadata": {
    "collapsed": true
   },
   "outputs": [],
   "source": [
    "infotxt = 'info-12.txt'\n",
    "with open(infotxt) as abj:\n",
    "    alzio = abj.readlines()\n",
    "\n",
    "it = ''    \n",
    "for lista in alzio:\n",
    "    it += lista.rstrip()\n",
    "\n",
    "koko = input('비밀번호는? : ')\n",
    "\n",
    "if koko in it:\n",
    "    print('yes')\n",
    "\n",
    "else:\n",
    "    print('NO!')"
   ]
  },
  {
   "cell_type": "code",
   "execution_count": null,
   "metadata": {
    "collapsed": true
   },
   "outputs": [],
   "source": [
    "infotxt = 'info-12.txt'\n",
    "with open(infotxt) as abj:\n",
    "    alzio = abj.readlines()\n",
    "\n",
    "it = ''    \n",
    "for lista in alzio:\n",
    "    it += lista.rstrip()\n",
    "    \n",
    "print(it[:7] + '...')\n",
    "print(len(it))"
   ]
  },
  {
   "cell_type": "code",
   "execution_count": null,
   "metadata": {
    "collapsed": true
   },
   "outputs": [],
   "source": [
    "infotxt = 'info-12.txt'\n",
    "with open(infotxt) as abj:\n",
    "    alzio = abj.readlines()\n",
    "\n",
    "for lista in alzio:\n",
    "    print(lista.strip())"
   ]
  },
  {
   "cell_type": "code",
   "execution_count": null,
   "metadata": {
    "collapsed": true
   },
   "outputs": [],
   "source": [
    "infotxt = 'info-12.txt'\n",
    "with open(infotxt) as abj:\n",
    "    for lista in abj:\n",
    "        print(lista)"
   ]
  },
  {
   "cell_type": "code",
   "execution_count": null,
   "metadata": {
    "collapsed": true
   },
   "outputs": [],
   "source": [
    "with open('info-12.txt') as abj:\n",
    "    alzio = abj.read()\n",
    "    print(alzio.strip())"
   ]
  },
  {
   "cell_type": "code",
   "execution_count": null,
   "metadata": {
    "collapsed": true
   },
   "outputs": [],
   "source": [
    "class Good():\n",
    "    def __init__(one, two, tree, fore):\n",
    "        \n",
    "        one.two = two\n",
    "        one.tree = tree\n",
    "        one.fore = fore\n",
    "        one.abcd = 2003\n",
    "        \n",
    "    def it(one):\n",
    "        baco = one.fore + '-> ' +  one.two + ': ' + one.tree\n",
    "        #baco = one.two + '-> ' +  one.tree + ': ' + one.fore\n",
    "        return baco\n",
    "    \n",
    "    def tyes(one):\n",
    "        print(one.two + \" SINE : \" + str(one.abcd) + \"년\")\n",
    "    \n",
    "tyes = Good('중국집', '짜장면', '5000')\n",
    "print(tyes.it())\n",
    "tyes.tyes()"
   ]
  },
  {
   "cell_type": "code",
   "execution_count": null,
   "metadata": {
    "collapsed": true
   },
   "outputs": [],
   "source": [
    "class Timm():\n",
    "    def __init__(one, two, tree):\n",
    "        \n",
    "        one.two = two\n",
    "        one.tree = tree\n",
    "        \n",
    "    def alzio(one):\n",
    "        print(one.two)\n",
    "        \n",
    "    def it(one):\n",
    "        print(one.two)\n",
    "\n",
    "abc = Timm('짜장면', 9000)\n",
    "coo = Timm('짬뽕', 3000)\n",
    "\n",
    "#print(abc.two)\n",
    "#print(abc.tree)\n",
    "#abc.alzio()\n",
    "\n",
    "print(coo.two)\n",
    "print(coo.tree)\n",
    "coo.alzio()"
   ]
  },
  {
   "cell_type": "code",
   "execution_count": null,
   "metadata": {
    "collapsed": true
   },
   "outputs": [],
   "source": [
    "def alzio(ill, ebun, **modu):\n",
    "    abc = {}\n",
    "    \n",
    "    abc['1번'] = ill\n",
    "    abc['2번'] = ebun\n",
    "    \n",
    "    for it, gab in modu.items():\n",
    "        abc[it] = gab\n",
    "    return abc\n",
    "\n",
    "okabc = alzio('김밥', '라면', 원='700', 투='700', 쓰리='700', 포='700', 파이브='700')\n",
    "print(okabc)"
   ]
  },
  {
   "cell_type": "code",
   "execution_count": null,
   "metadata": {
    "collapsed": true
   },
   "outputs": [],
   "source": [
    "def alzio(aoll, *box):\n",
    "    print(\"\\n\" + aoll)\n",
    "    \n",
    "    for bood in box:\n",
    "        print(\"\\n\" + \">>\" + bood)\n",
    "        \n",
    "alzio('1호실', '월세 10')\n",
    "alzio('2호실', '월세 NO', '관리비 5')\n",
    "alzio('3호실', '월세 15', '아침저녁 5', '음료제공')        "
   ]
  },
  {
   "cell_type": "code",
   "execution_count": null,
   "metadata": {
    "collapsed": true
   },
   "outputs": [],
   "source": [
    "def alzio(abab, dfdf):\n",
    "    while abab:\n",
    "        itone = abab.pop()\n",
    "        print(\"해당내용: \" + itone)\n",
    "        dfdf.append(itone)\n",
    "        \n",
    "def plus(dfdf):        \n",
    "    for yyrrgg in dfdf:\n",
    "        print(yyrrgg)\n",
    "        \n",
    "abab = ['123', '456', '789', 'good', 'nise']\n",
    "dfdf = [] \n",
    "\n",
    "alzio(abab, dfdf)\n",
    "plus(dfdf)"
   ]
  },
  {
   "cell_type": "code",
   "execution_count": null,
   "metadata": {
    "collapsed": true
   },
   "outputs": [],
   "source": [
    "def alzio(ao):\n",
    "    for it in ao:\n",
    "        big = \">> \" + it\n",
    "        print(big)\n",
    "jja = ['진김홍', '오나라', '팩임', 'd', 'v', 'x', 'm']   \n",
    "alzio(jja)"
   ]
  },
  {
   "cell_type": "code",
   "execution_count": null,
   "metadata": {
    "collapsed": true
   },
   "outputs": [],
   "source": [
    "def alzio(one, two):\n",
    "    allonetwo = one + ' / ' + two\n",
    "    \n",
    "    return allonetwo\n",
    "\n",
    "while True:\n",
    "    abc = input(\"1번: \")\n",
    "    if abc == 'oo':\n",
    "        break\n",
    "    abab = input(\"2번: \")\n",
    "    if abab == 'pp':\n",
    "        break\n",
    "        \n",
    "total = alzio(abc, abab)\n",
    "print(total)"
   ]
  },
  {
   "cell_type": "code",
   "execution_count": null,
   "metadata": {
    "collapsed": true
   },
   "outputs": [],
   "source": [
    "def alzio(al, it, color=''):\n",
    "    abc = {'강아지 이름': al, '분류': it}\n",
    "    \n",
    "    if color:\n",
    "        abc['color'] = color\n",
    "    \n",
    "    return abc\n",
    "\n",
    "list = alzio('귀요미', '푸들', color='braun')\n",
    "print(list)"
   ]
  },
  {
   "cell_type": "code",
   "execution_count": null,
   "metadata": {
    "collapsed": true
   },
   "outputs": [],
   "source": [
    "def alzio(one, two, tree=''):\n",
    "    if tree:\n",
    "        it = one + ' = ' + two + ' -> ' + tree\n",
    "    else:\n",
    "        it = one + \" = \" + two\n",
    "    return it\n",
    "\n",
    "al = alzio('IT', '전문교육', 'alzio.co.kr')\n",
    "print(al)\n",
    "al = alzio('IT', '전문교육')\n",
    "print(al)"
   ]
  },
  {
   "cell_type": "code",
   "execution_count": null,
   "metadata": {
    "collapsed": true
   },
   "outputs": [],
   "source": [
    "def alzio(one, two, tree):\n",
    "    it = one + ' = ' + two + tree\n",
    "    \n",
    "    return it\n",
    "\n",
    "al = alzio('IT', '전문교육', 'alzio.co.kr')\n",
    "print(al)"
   ]
  },
  {
   "cell_type": "code",
   "execution_count": null,
   "metadata": {
    "collapsed": true
   },
   "outputs": [],
   "source": [
    "def alzio(abc, it='alzio.co.kr'):\n",
    "    print(it)\n",
    "    print(it + \"/\" + abc)\n",
    "    \n",
    "alzio('2003')    \n",
    "alzio(abc='100')\n",
    "alzio('2005', '2100')\n",
    "alzio(it='2100', abc='2005')"
   ]
  },
  {
   "cell_type": "code",
   "execution_count": null,
   "metadata": {
    "collapsed": true
   },
   "outputs": [],
   "source": [
    "def alzio(abc, it):\n",
    "    print(it)\n",
    "    print(it + \"/\" + abc)\n",
    "alzio('2004', '2005')    "
   ]
  },
  {
   "cell_type": "code",
   "execution_count": null,
   "metadata": {
    "collapsed": true
   },
   "outputs": [],
   "source": [
    "def name(alzio):\n",
    "    print(alzio + \"www.alzio.co.kr\")\n",
    "name(\"567\")"
   ]
  },
  {
   "cell_type": "code",
   "execution_count": null,
   "metadata": {
    "collapsed": true
   },
   "outputs": [],
   "source": [
    "alzio = {}\n",
    "it = True\n",
    "\n",
    "while it:\n",
    "    alz = input(\"질문 1 :\")\n",
    "    cokr = input(\"질문 2 :\")\n",
    "    \n",
    "    alzio[alz] = cokr\n",
    "    \n",
    "    alzioit = input(\"OK / NO : \")\n",
    "    if alzioit == 'OK':\n",
    "        it = False\n",
    "\n",
    "for alz, cokr in alzio.items():\n",
    "    print(alz + \" / \" + cokr)"
   ]
  },
  {
   "cell_type": "code",
   "execution_count": null,
   "metadata": {
    "collapsed": true
   },
   "outputs": [],
   "source": [
    "alz = ['감자', '오이', '고구마', '옥수수', '오이', '카사바', '오이']\n",
    "while '팰리스' in alz:\n",
    "    alz.remove('팰리스')\n",
    "print(alz) "
   ]
  },
  {
   "cell_type": "code",
   "execution_count": null,
   "metadata": {
    "collapsed": true
   },
   "outputs": [],
   "source": [
    "alz = ['감자', '오이', '고구마', '옥수수', '카사바']\n",
    "while '오이' in alz:\n",
    "    alz.remove('오이')\n",
    "print(alz)"
   ]
  },
  {
   "cell_type": "code",
   "execution_count": null,
   "metadata": {
    "collapsed": true
   },
   "outputs": [],
   "source": [
    "alz = ['감자', '오이', '고구마', '옥수수', '카사바']\n",
    "it =[]\n",
    "\n",
    "while alz:\n",
    "    alzio = alz.pop()\n",
    "    \n",
    "    print(\">> \" + alzio)\n",
    "    it.append(alzio)\n",
    "    \n",
    "print(\"\\n\") \n",
    "for alziocokr in it:\n",
    "    print(alziocokr)"
   ]
  },
  {
   "cell_type": "code",
   "execution_count": null,
   "metadata": {
    "collapsed": true
   },
   "outputs": [],
   "source": [
    "alz = \"입력해: \"\n",
    "alz += \"종료해! 종료는 abc\"\n",
    "\n",
    "alzio = True\n",
    "while alzio:\n",
    "    it = input(alz)\n",
    "    if it == 'abc':\n",
    "        alzio = False\n",
    "    else:\n",
    "        print(it)"
   ]
  },
  {
   "cell_type": "code",
   "execution_count": null,
   "metadata": {
    "collapsed": true
   },
   "outputs": [],
   "source": [
    "alz = 1\n",
    "while alz <= 7:\n",
    "    print(alz)\n",
    "    alz += 2"
   ]
  },
  {
   "cell_type": "code",
   "execution_count": null,
   "metadata": {
    "collapsed": true
   },
   "outputs": [],
   "source": [
    "5 % 3"
   ]
  },
  {
   "cell_type": "code",
   "execution_count": null,
   "metadata": {
    "collapsed": true
   },
   "outputs": [],
   "source": [
    "alz = input(\"얼마야? : \")\n",
    "alz = int(alz)\n",
    "\n",
    "if alz % 2 == 0:\n",
    "    print(\"yes\")\n",
    "else:    \n",
    "    print(\"no\")"
   ]
  },
  {
   "cell_type": "code",
   "execution_count": null,
   "metadata": {
    "collapsed": true
   },
   "outputs": [],
   "source": [
    "alz = input(\"얼마야? : \")\n",
    "alz = int(alz)\n",
    "\n",
    "if alz >= 600:\n",
    "    print(\"yes\")\n",
    "else:    \n",
    "    print(\"no\")"
   ]
  },
  {
   "cell_type": "code",
   "execution_count": null,
   "metadata": {
    "collapsed": true
   },
   "outputs": [],
   "source": [
    "alz = input(\"입력해 : \")\n",
    "print(\"입력된내용: \" + alz)"
   ]
  },
  {
   "cell_type": "code",
   "execution_count": null,
   "metadata": {
    "collapsed": true
   },
   "outputs": [],
   "source": [
    "alzio = {\n",
    "    '짜장면': {'list1': '1,000', 'list2': '1,200', 'list3': '1,900'},\n",
    "    '짬뽕': {'list1': '500', 'list2': '800', 'list3': '900'}\n",
    "    }\n",
    "\n",
    "for ab, listabb in alzio.items():\n",
    "    print(\"\\n\" + \"--- \" + ab + \" ---\")\n",
    "    \n",
    "    alz1 = listabb[\"list1\"] + \" | \" + listabb[\"list2\"]\n",
    "    alz2 = listabb[\"list3\"]\n",
    "    \n",
    "    print(\"정상가 \" + alz2)\n",
    "    print(\"할인가 \" + alz1)"
   ]
  },
  {
   "cell_type": "code",
   "execution_count": null,
   "metadata": {
    "collapsed": true
   },
   "outputs": [],
   "source": [
    "alzio = {\n",
    "    \"짜장면\": [\"10,000원\", \"15,000원\"], \n",
    "    \"짬뽕\": [\"매운\", \"순한\"], \n",
    "    \"만두\": [\"군만두\", \"물만두\"],\n",
    "    }\n",
    "\n",
    "for k, v in alzio.items():\n",
    "    print(k)\n",
    "    \n",
    "    for al in v:\n",
    "        print(al)"
   ]
  },
  {
   "cell_type": "code",
   "execution_count": null,
   "metadata": {
    "collapsed": true
   },
   "outputs": [],
   "source": [
    "alzio = {\"짜장면\": \"10,000원\", \"짬뽕\": \"10,000원\", \"만두\": [\"군만두\", \"물만두\"]}\n",
    "#print(alzio[\"짜장면\"])\n",
    "\n",
    "for al in alzio[\"만두\"]:\n",
    "    print(al)"
   ]
  },
  {
   "cell_type": "code",
   "execution_count": null,
   "metadata": {
    "collapsed": true
   },
   "outputs": [],
   "source": [
    "alzio = []\n",
    "for it in range(50):\n",
    "    ab = {\"짜장면\": \"10,000원\", \"짬뽕\": \"10,000원\", \"울면\": \"12,000원\"}\n",
    "    alzio.append(ab)\n",
    "\n",
    "for al in alzio[0:2]:\n",
    "    if al[\"짜장면\"] == \"10,000원\":\n",
    "        al[\"짜장면\"] = \"15,000원\"\n",
    "        al[\"짬뽕\"] = \"17,000원\"\n",
    "        al[\"울면\"] = \"9,000원\"\n",
    "        \n",
    "for al in alzio[0:7]:\n",
    "    print(al)"
   ]
  },
  {
   "cell_type": "code",
   "execution_count": null,
   "metadata": {
    "collapsed": true
   },
   "outputs": [],
   "source": [
    "alzio = []\n",
    "for it in range(50):\n",
    "    ab = {\"짜장면\": \"10,000원\", \"짬뽕\": \"10,000원\", \"울면\": \"12,000원\"}\n",
    "    alzio.append(ab)\n",
    "\n",
    "for al in alzio[:2]:\n",
    "    print(al)"
   ]
  },
  {
   "cell_type": "code",
   "execution_count": null,
   "metadata": {
    "collapsed": true
   },
   "outputs": [],
   "source": [
    "alzio = {\n",
    "    \"짜장면\": \"10,000원\",\n",
    "    \"짬뽕\": \"10,000원\",\n",
    "    \"울면\": \"12,000원\",\n",
    "    }\n",
    "\n",
    "alziotwo = {\n",
    "    \"라조기\": \"10,000원\", \n",
    "    \"군만두\": \"10,000원\", \n",
    "    \"깐쇼새우\": \"12,000원\", \n",
    "    }\n",
    "\n",
    "all = [alzio, alziotwo]\n",
    "for it in all:\n",
    "    print(it)"
   ]
  },
  {
   "cell_type": "code",
   "execution_count": null,
   "metadata": {
    "collapsed": true
   },
   "outputs": [],
   "source": [
    "alzio = {\n",
    "    \"짜장면\": \"10,000원\",\n",
    "    \"짬뽕\": \"10,000원\",\n",
    "    \"만두\": \"10,000원\",\n",
    "    \"탕수육\": \"30,000원\"\n",
    "    }\n",
    "for k in set(alzio.values()):\n",
    "#for k in alzio.values():\n",
    "     print(k)"
   ]
  },
  {
   "cell_type": "code",
   "execution_count": null,
   "metadata": {
    "collapsed": true
   },
   "outputs": [],
   "source": [
    "alzio = {\n",
    "    \"짜장면\": \"10,000원\",\n",
    "    \"짬뽕\": \"12,000원\",\n",
    "    \"만두\": \"13,000원\",\n",
    "    \"탕수육\": \"30,000원\"\n",
    "    }\n",
    "\n",
    "if \"짬짜면\" not in alzio:\n",
    "     print(\"없어\")"
   ]
  },
  {
   "cell_type": "code",
   "execution_count": null,
   "metadata": {
    "collapsed": true
   },
   "outputs": [],
   "source": [
    "alzio = {\n",
    "    \"짜장면\": \"10,000원\",\n",
    "    \"짬뽕\": \"12,000원\",\n",
    "    \"만두\": \"13,000원\",\n",
    "    \"탕수육\": \"30,000원\"\n",
    "    }\n",
    "\n",
    "it = [\"짬뽕\", \"탕수육\"]\n",
    "\n",
    "for m in alzio.keys():\n",
    "    if m in it:\n",
    "    \n",
    "        print(m + alzio[m])"
   ]
  },
  {
   "cell_type": "code",
   "execution_count": null,
   "metadata": {
    "collapsed": true
   },
   "outputs": [],
   "source": [
    "alzio = {\n",
    "    \"짜장면\": \"10,000원\",\n",
    "    \"짬뽕\": \"10,000원\",\n",
    "    \"만두\": \"10,000원\"\n",
    "    }\n",
    "for k, w in alzio.items():\n",
    "    print(\" \" + k + \" \" + w + \".\")"
   ]
  },
  {
   "cell_type": "code",
   "execution_count": null,
   "metadata": {
    "collapsed": true
   },
   "outputs": [],
   "source": [
    "alzio = {\n",
    "\t\"짜장면\": \"10,000원\",\n",
    "\t\"짬뽕\": \"10,000원\",\n",
    "\t\"만두\": \"10,000원\"\n",
    "\t}\n",
    "for k in alzio:\n",
    "    print(k)"
   ]
  },
  {
   "cell_type": "code",
   "execution_count": null,
   "metadata": {
    "collapsed": true
   },
   "outputs": [],
   "source": [
    "alzio = {\"gg\": \"kokoo\", \"ff\": \"567\", \"kk\": \"90\", \"oo\": \"70\"}\n",
    "for k, v in alzio.items():\n",
    "    print(k + \": \" + v)"
   ]
  },
  {
   "cell_type": "code",
   "execution_count": null,
   "metadata": {
    "collapsed": true
   },
   "outputs": [],
   "source": [
    "alzio = {\"gg\": \"kokoo\", \"ff\": 567, \"kk\": 90, \"oo\": 70}\n",
    "alzio[\"gg\"] = 10\n",
    "print(alzio)"
   ]
  },
  {
   "cell_type": "code",
   "execution_count": null,
   "metadata": {
    "collapsed": true
   },
   "outputs": [],
   "source": [
    "alzio = {\"gg\": \"kokoo\", \"ff\": 567, \"kk\": 90, \"oo\": 70}\n",
    "alzio[\"hh\"] = 10\n",
    "alzio[\"ww\"] = 20\n",
    "alzio[\"ee\"] = 50\n",
    "\n",
    "print(alzio)"
   ]
  },
  {
   "cell_type": "code",
   "execution_count": null,
   "metadata": {
    "collapsed": true
   },
   "outputs": [],
   "source": [
    "alzio = {\"gg\": \"kokoo\", \"ff\": 567, \"kk\": 90, \"oo\": 70}\n",
    "it = alzio[\"kk\"]\n",
    "print(str(it))"
   ]
  },
  {
   "cell_type": "code",
   "execution_count": null,
   "metadata": {
    "collapsed": true
   },
   "outputs": [],
   "source": [
    "alzio = {\"gg\": \"kokoo\", \"ff\": 567, \"kk\": 90, \"oo\": 70}\n",
    "print(alzio[\"oo\"])\n",
    "print(alzio[\"kk\"])"
   ]
  },
  {
   "cell_type": "code",
   "execution_count": null,
   "metadata": {
    "collapsed": true
   },
   "outputs": [],
   "source": [
    "lok = ['포토샵', '일러스트', '웹표준', '스케치업']\n",
    "abc = ['111', '222']\n",
    "\n",
    "for abcd in abc:\n",
    "    if abcd in lok:\n",
    "        print(abcd)\n",
    "    else:\n",
    "        print(\"없다!\")"
   ]
  },
  {
   "cell_type": "code",
   "execution_count": null,
   "metadata": {
    "collapsed": true
   },
   "outputs": [],
   "source": [
    "lok = []\n",
    "if lok:\n",
    "    for abc in lok:\n",
    "        print(abc)\n",
    "    else:\n",
    "        print(\"없다!!\")"
   ]
  },
  {
   "cell_type": "code",
   "execution_count": null,
   "metadata": {
    "collapsed": true
   },
   "outputs": [],
   "source": [
    "lok = ['포토샵', '일러스트', '웹표준', '스케치업']\n",
    "\n",
    "for abc in lok:\n",
    "    if abc == \"일러스트\":\n",
    "        print(\"있어\")\n",
    "    else:\n",
    "        print(abc)"
   ]
  },
  {
   "cell_type": "code",
   "execution_count": null,
   "metadata": {
    "collapsed": true
   },
   "outputs": [],
   "source": [
    "lok = ['포토샵', '일러스트']\n",
    "if \"포토샵\" in lok:\n",
    "    print(\"OK!!\")\n",
    "if \"SGEGER\" in lok:\n",
    "    print(\"OK-2\")\n",
    "if \"일러스트\" in lok:\n",
    "    print(\"OK-3\")    "
   ]
  },
  {
   "cell_type": "code",
   "execution_count": null,
   "metadata": {
    "collapsed": true
   },
   "outputs": [],
   "source": [
    "lok = 50\n",
    "\n",
    "if lok < 60:\n",
    "    abc = 0\n",
    "    \n",
    "elif lok < 70:\n",
    "    abc = 800\n",
    "    \n",
    "print(abc)"
   ]
  },
  {
   "cell_type": "code",
   "execution_count": null,
   "metadata": {
    "collapsed": true
   },
   "outputs": [],
   "source": [
    "lok = 50\n",
    "if lok < 40:\n",
    "    print(\"ok\")\n",
    "    \n",
    "elif lok < 35:\n",
    "    print(\"ok!!\")\n",
    "    \n",
    "else:\n",
    "    print(\"no\")"
   ]
  },
  {
   "cell_type": "code",
   "execution_count": null,
   "metadata": {
    "collapsed": true
   },
   "outputs": [],
   "source": [
    "lok = 50\n",
    "if lok <= 35:\n",
    "    print(\"ok\")\n",
    "    \n",
    "else:\n",
    "    print(\"no\")"
   ]
  },
  {
   "cell_type": "code",
   "execution_count": null,
   "metadata": {
    "collapsed": true
   },
   "outputs": [],
   "source": [
    "lok = [0,1,2,3,4,5]\n",
    "#5 in lok\n",
    "7 in lok"
   ]
  },
  {
   "cell_type": "code",
   "execution_count": null,
   "metadata": {
    "collapsed": true
   },
   "outputs": [],
   "source": [
    "lok = 38\n",
    "abc = 15\n",
    "\n",
    "lok >= 40 or abc >= 14"
   ]
  },
  {
   "cell_type": "code",
   "execution_count": null,
   "metadata": {
    "collapsed": true
   },
   "outputs": [],
   "source": [
    "lok = 38\n",
    "abc = 15\n",
    "\n",
    "#lok >= 37\n",
    "#lok >= 37 and abc >= 11\n",
    "lok >= 40 and abc >= 14"
   ]
  },
  {
   "cell_type": "code",
   "execution_count": null,
   "metadata": {
    "collapsed": true
   },
   "outputs": [],
   "source": [
    "lok = 38\n",
    "lok < 45"
   ]
  },
  {
   "cell_type": "code",
   "execution_count": null,
   "metadata": {
    "collapsed": true
   },
   "outputs": [],
   "source": [
    "lok = 50\n",
    "if lok != 79:\n",
    "    print(\"ok\")"
   ]
  },
  {
   "cell_type": "code",
   "execution_count": null,
   "metadata": {
    "collapsed": true
   },
   "outputs": [],
   "source": [
    "lok = \"abC\"\n",
    "lok.lower() != \"abco\""
   ]
  },
  {
   "cell_type": "code",
   "execution_count": null,
   "metadata": {
    "collapsed": true
   },
   "outputs": [],
   "source": [
    "lok = \"abC\"\n",
    "lok.lower() == \"abc\""
   ]
  },
  {
   "cell_type": "code",
   "execution_count": null,
   "metadata": {
    "collapsed": true
   },
   "outputs": [],
   "source": [
    "lok = \"abc\"\n",
    "lok == \"abca\""
   ]
  },
  {
   "cell_type": "code",
   "execution_count": null,
   "metadata": {
    "collapsed": true
   },
   "outputs": [],
   "source": [
    "lok = [\"verson1\", \"verson2\", \"verson3\", \"verson4\", \"verson5\", \"verson6\", \"verson7\"]\n",
    "for abc in lok:\n",
    "    if abc == \"verson2\":\n",
    "        print(abc.upper())\n",
    "    else:\n",
    "        print(abc.title())"
   ]
  },
  {
   "cell_type": "code",
   "execution_count": null,
   "metadata": {
    "collapsed": true
   },
   "outputs": [],
   "source": [
    "lok = (70, 95, 172, 650, 800, 0, 5)\n",
    "for abc in lok:\n",
    "    print(abc)\n",
    "    \n",
    "lok = (50, 70)\n",
    "for abc in lok:\n",
    "    print(abc)    "
   ]
  },
  {
   "cell_type": "code",
   "execution_count": null,
   "metadata": {
    "collapsed": true
   },
   "outputs": [],
   "source": [
    "lok = (30, 800)\n",
    "lok[0] = 500\n",
    "\n",
    "print(lok)"
   ]
  },
  {
   "cell_type": "code",
   "execution_count": null,
   "metadata": {
    "collapsed": true
   },
   "outputs": [],
   "source": [
    "lok = [30, 80]\n",
    "lok[0] = 500\n",
    "\n",
    "\n",
    "print(lok[0])\n",
    "print(lok[1])"
   ]
  },
  {
   "cell_type": "code",
   "execution_count": null,
   "metadata": {
    "collapsed": true
   },
   "outputs": [],
   "source": [
    "lok = ['alzio', 'IT', 'ONE', 'two', \"578\"]\n",
    "abc = lok\n",
    "lok.append(\"2003\")\n",
    "\n",
    "print(lok, \"\\n\", abc)\n",
    "abc = lok\n",
    "lok.append(\"2003\")\n",
    "\n",
    "print(lok, \"\\n\", abc)"
   ]
  },
  {
   "cell_type": "code",
   "execution_count": null,
   "metadata": {
    "collapsed": true
   },
   "outputs": [],
   "source": [
    "lok = ['alzio', 'IT', 'ONE', 'two', \"578\"]\n",
    "abc = lok[:]\n",
    "lok.append(\"2003\")\n",
    "\n",
    "print(lok, \"\\n\", abc)"
   ]
  },
  {
   "cell_type": "code",
   "execution_count": null,
   "metadata": {
    "collapsed": true
   },
   "outputs": [],
   "source": [
    "lok = ['alzio', 'IT', 'ONE', 'two', \"578\"]\n",
    "abc = lok[:]\n",
    "print(lok, \"\\n\", abc)"
   ]
  },
  {
   "cell_type": "code",
   "execution_count": null,
   "metadata": {
    "collapsed": true
   },
   "outputs": [],
   "source": [
    "lok = ['alzio', 'IT', 'ONE', 'two', \"578\"]\n",
    "for koko in lok[:3]:\n",
    "    print(koko)"
   ]
  },
  {
   "cell_type": "code",
   "execution_count": null,
   "metadata": {
    "collapsed": true
   },
   "outputs": [],
   "source": [
    "lok = ['alzio', 'IT', 'ONE', 'two']\n",
    "print(lok[2:3])\n",
    "print(lok[2])\n",
    "print(lok[:2])\n",
    "print(lok[2:])\n",
    "print(lok[-3:])"
   ]
  },
  {
   "cell_type": "code",
   "execution_count": null,
   "metadata": {
    "collapsed": true
   },
   "outputs": [],
   "source": [
    "lok = [ra**2 for ra in range(0,20)]\n",
    "print(lok)"
   ]
  },
  {
   "cell_type": "code",
   "execution_count": null,
   "metadata": {
    "collapsed": true
   },
   "outputs": [],
   "source": [
    "lok = [0,1,2,3,4,5]\n",
    "#max(lok)\n",
    "#min(lok)"
   ]
  },
  {
   "cell_type": "code",
   "execution_count": null,
   "metadata": {
    "collapsed": true
   },
   "outputs": [],
   "source": [
    "lok = []\n",
    "for moll in range(0, 15):\n",
    "    #loka = moll**2\n",
    "    loka = moll\n",
    "    lok.append(loka)\n",
    "    \n",
    "print(lok)"
   ]
  },
  {
   "cell_type": "code",
   "execution_count": null,
   "metadata": {
    "collapsed": true
   },
   "outputs": [],
   "source": [
    "lok = list(range(0, 13, 3))\n",
    "print(lok)"
   ]
  },
  {
   "cell_type": "code",
   "execution_count": null,
   "metadata": {
    "collapsed": true
   },
   "outputs": [],
   "source": [
    "lok = ['alzio', 'IT', 'ONE', 'two']\n",
    "for lsfo in lok:\n",
    "    print(lsfo.title() + \" -> alzio.co.kr\".title() + \"\\n\")\n",
    "    #print(lsfo)"
   ]
  },
  {
   "cell_type": "code",
   "execution_count": null,
   "metadata": {
    "collapsed": true
   },
   "outputs": [],
   "source": [
    "lok = ['alzio', 'IT', 'ONE', 'two']\n",
    "len(lok)"
   ]
  },
  {
   "cell_type": "code",
   "execution_count": null,
   "metadata": {
    "collapsed": true
   },
   "outputs": [],
   "source": [
    "lok = ['alzio', 'IT', 'ONE', 'two']\n",
    "#lok.sort()\n",
    "#lok.sort(reverse=True)\n",
    "\n",
    "print(sorted(lok))"
   ]
  },
  {
   "cell_type": "code",
   "execution_count": null,
   "metadata": {
    "collapsed": true
   },
   "outputs": [],
   "source": [
    "lok = ['alzio', 'IT', 'ONE', 'two']\n",
    "lok.remove('ONE')\n",
    "\n",
    "print(lok)"
   ]
  },
  {
   "cell_type": "code",
   "execution_count": null,
   "metadata": {
    "collapsed": true
   },
   "outputs": [],
   "source": [
    "lok = ['alzio', 'IT', 'ONE', 'two']\n",
    "alo = lok.pop(0)\n",
    "print(lok)\n",
    "print(alo)"
   ]
  },
  {
   "cell_type": "code",
   "execution_count": null,
   "metadata": {
    "collapsed": true
   },
   "outputs": [],
   "source": [
    "lok = ['alzio', 'IT', 'ONE', 'two']\n",
    "del lok[0]\n",
    "#lok.insert(2, 'win')\n",
    "\n",
    "print(lok)"
   ]
  },
  {
   "cell_type": "code",
   "execution_count": null,
   "metadata": {
    "collapsed": true
   },
   "outputs": [],
   "source": [
    "lok = ['alzio', 'IT', 'ONE', 'two']\n",
    "lok.append('end')\n",
    "#lok[1] = \"co\"\n",
    "\n",
    "\n",
    "#print(lok[-1])\n",
    "#print(lok[3])\n",
    "print(lok)"
   ]
  },
  {
   "cell_type": "code",
   "execution_count": null,
   "metadata": {
    "collapsed": true
   },
   "outputs": [],
   "source": [
    "lok = \"alzio\"\n",
    "loko = 2003\n",
    "ksid = lok +  \" -> \" + str(loko) + \" \" + \"www.alzio.co.kr\"\n",
    "\n",
    "print(\"it전문교육: \" + ksid.title())"
   ]
  },
  {
   "cell_type": "code",
   "execution_count": null,
   "metadata": {
    "collapsed": true
   },
   "outputs": [],
   "source": [
    "(9 - 2) * 8"
   ]
  },
  {
   "cell_type": "code",
   "execution_count": null,
   "metadata": {
    "collapsed": true
   },
   "outputs": [],
   "source": [
    "lok = \"alzio \"\n",
    "lok = lok.strip()\n",
    "loko = \"IT\"\n",
    "print(lok + loko)\n",
    "#print(lok.lstrip() + loko)"
   ]
  },
  {
   "cell_type": "code",
   "execution_count": null,
   "metadata": {
    "collapsed": true
   },
   "outputs": [],
   "source": [
    "lok = 2003\n",
    "loko = 10\n",
    "print(lok, \"\\n\\t\", loko)"
   ]
  },
  {
   "cell_type": "code",
   "execution_count": null,
   "metadata": {
    "collapsed": true
   },
   "outputs": [],
   "source": [
    "lok = \"alzio\"\n",
    "loko = \"IT\"\n",
    "print(\"it전문교육: \" + lok +  \" -> \" + loko + \" \" + \"www.alzio.co.kr\")"
   ]
  },
  {
   "cell_type": "code",
   "execution_count": null,
   "metadata": {
    "collapsed": true
   },
   "outputs": [],
   "source": [
    "al1 = \"150\"\n",
    "al2 = \"200\"\n",
    "\n",
    "print(al1 + al2)\n",
    "print(al1 + \" \" + al2)\n",
    "print(al1, al2)"
   ]
  },
  {
   "cell_type": "code",
   "execution_count": null,
   "metadata": {
    "collapsed": true
   },
   "outputs": [],
   "source": [
    "al1 = 150\n",
    "al2 = 200\n",
    "\n",
    "print(al1 + al2)"
   ]
  },
  {
   "cell_type": "code",
   "execution_count": null,
   "metadata": {
    "collapsed": true
   },
   "outputs": [],
   "source": [
    "al1 = \"2003년 시작!\"\n",
    "al2 = \"2003\"\n",
    "\n",
    "#print(al1)\n",
    "#print(al2)\n",
    "#print(\"2003년 시작!!\")\n",
    "#print(\"\\n\")\n",
    "#print(al1, \" --> \", al2)"
   ]
  }
 ],
 "metadata": {
  "kernelspec": {
   "display_name": "Python 3",
   "language": "python",
   "name": "python3"
  },
  "language_info": {
   "codemirror_mode": {
    "name": "ipython",
    "version": 3
   },
   "file_extension": ".py",
   "mimetype": "text/x-python",
   "name": "python",
   "nbconvert_exporter": "python",
   "pygments_lexer": "ipython3",
   "version": "3.6.1"
  }
 },
 "nbformat": 4,
 "nbformat_minor": 2
}
